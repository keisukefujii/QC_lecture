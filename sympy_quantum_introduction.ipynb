{
 "cells": [
  {
   "cell_type": "markdown",
   "metadata": {},
   "source": [
    "# Sympy で量子コンピュータの基礎を学ぶ\n",
    "\n",
    "使うものを読み込むための呪文"
   ]
  },
  {
   "cell_type": "code",
   "execution_count": 10,
   "metadata": {},
   "outputs": [],
   "source": [
    "from IPython.display import Image, display_png\n",
    "from sympy import *\n",
    "from sympy import Matrix,ImmutableMatrix,symbols,sqrt\n",
    "from sympy.physics.quantum import *\n",
    "from sympy.physics.quantum.qubit import Qubit,QubitBra\n",
    "from sympy.physics.quantum.gate import X,Y,Z,H,S,T,CNOT,SWAP, CPHASE\n",
    "from sympy.physics.quantum.gate import UGate\n",
    "from sympy.physics.quantum.gate import IdentityGate as _I\n",
    "from sympy.printing.dot import dotprint\n",
    "#from safe_gate import SafeUGate\n",
    "import numpy as np\n",
    "from sympy.physics.quantum.tensorproduct import TensorProduct\n",
    "\n",
    "\n",
    "init_printing()"
   ]
  },
  {
   "cell_type": "markdown",
   "metadata": {},
   "source": [
    "量子状態をブラッケット表示でシンボリックに表現できる"
   ]
  },
  {
   "cell_type": "code",
   "execution_count": 11,
   "metadata": {},
   "outputs": [
    {
     "data": {
      "image/png": "[encoded data removed]",
      "text/latex": [
       "$\\displaystyle {\\left|0\\right\\rangle }$"
      ],
      "text/plain": [
       "❘0⟩"
      ]
     },
     "execution_count": 11,
     "metadata": {},
     "output_type": "execute_result"
    }
   ],
   "source": [
    "Qubit('0')"
   ]
  },
  {
   "cell_type": "markdown",
   "metadata": {},
   "source": [
    "psi という変数にシンボリックに量子状態を代入する（量子状態を型とするような変数が使える）"
   ]
  },
  {
   "cell_type": "code",
   "execution_count": 12,
   "metadata": {},
   "outputs": [
    {
     "data": {
      "image/png": "[encoded data removed]",
      "text/latex": [
       "$\\displaystyle {\\left|0\\right\\rangle }$"
      ],
      "text/plain": [
       "❘0⟩"
      ]
     },
     "execution_count": 12,
     "metadata": {},
     "output_type": "execute_result"
    }
   ],
   "source": [
    "psi = Qubit('0')\n",
    "psi"
   ]
  },
  {
   "cell_type": "code",
   "execution_count": 13,
   "metadata": {},
   "outputs": [
    {
     "data": {
      "image/png": "[encoded data removed]",
      "text/latex": [
       "$\\displaystyle {\\left|000\\right\\rangle }$"
      ],
      "text/plain": [
       "❘000⟩"
      ]
     },
     "execution_count": 13,
     "metadata": {},
     "output_type": "execute_result"
    }
   ],
   "source": [
    "psi = Qubit('000')\n",
    "psi"
   ]
  },
  {
   "cell_type": "markdown",
   "metadata": {},
   "source": [
    "ベクトルで表現するためには"
   ]
  },
  {
   "cell_type": "code",
   "execution_count": 14,
   "metadata": {},
   "outputs": [
    {
     "data": {
      "image/png": "[encoded data removed]",
      "text/latex": [
       "$\\displaystyle \\left[\\begin{matrix}1\\\\0\\\\0\\\\0\\\\0\\\\0\\\\0\\\\0\\end{matrix}\\right]$"
      ],
      "text/plain": [
       "⎡1⎤\n",
       "⎢ ⎥\n",
       "⎢0⎥\n",
       "⎢ ⎥\n",
       "⎢0⎥\n",
       "⎢ ⎥\n",
       "⎢0⎥\n",
       "⎢ ⎥\n",
       "⎢0⎥\n",
       "⎢ ⎥\n",
       "⎢0⎥\n",
       "⎢ ⎥\n",
       "⎢0⎥\n",
       "⎢ ⎥\n",
       "⎣0⎦"
      ]
     },
     "execution_count": 14,
     "metadata": {},
     "output_type": "execute_result"
    }
   ],
   "source": [
    "represent(psi)"
   ]
  },
  {
   "cell_type": "code",
   "execution_count": 15,
   "metadata": {},
   "outputs": [
    {
     "data": {
      "image/png": "[encoded data removed]",
      "text/latex": [
       "$\\displaystyle \\left[\\begin{matrix}0\\\\1\\\\0\\\\0\\\\0\\\\0\\\\0\\\\0\\end{matrix}\\right]$"
      ],
      "text/plain": [
       "⎡0⎤\n",
       "⎢ ⎥\n",
       "⎢1⎥\n",
       "⎢ ⎥\n",
       "⎢0⎥\n",
       "⎢ ⎥\n",
       "⎢0⎥\n",
       "⎢ ⎥\n",
       "⎢0⎥\n",
       "⎢ ⎥\n",
       "⎢0⎥\n",
       "⎢ ⎥\n",
       "⎢0⎥\n",
       "⎢ ⎥\n",
       "⎣0⎦"
      ]
     },
     "execution_count": 15,
     "metadata": {},
     "output_type": "execute_result"
    }
   ],
   "source": [
    "represent(Qubit('001'))"
   ]
  },
  {
   "cell_type": "markdown",
   "metadata": {},
   "source": [
    "有名な量子演算はすでに定義されている。演算子を定義するときにはつねに何番目の量子ビットに作用するかを指定する。\n",
    "例えば、0番目の量子ビットへのHadamardなら"
   ]
  },
  {
   "cell_type": "code",
   "execution_count": 16,
   "metadata": {},
   "outputs": [
    {
     "data": {
      "image/png": "[encoded data removed]",
      "text/latex": [
       "$\\displaystyle H_{0}$"
      ],
      "text/plain": [
       "H \n",
       " 0"
      ]
     },
     "execution_count": 16,
     "metadata": {},
     "output_type": "execute_result"
    }
   ],
   "source": [
    "H(0)"
   ]
  },
  {
   "cell_type": "markdown",
   "metadata": {},
   "source": [
    "行列表示が欲しければ"
   ]
  },
  {
   "cell_type": "code",
   "execution_count": 17,
   "metadata": {},
   "outputs": [
    {
     "data": {
      "image/png": "[encoded data removed]",
      "text/latex": [
       "$\\displaystyle \\left[\\begin{matrix}\\frac{1}{\\sqrt{2}} & 0 & \\frac{1}{\\sqrt{2}} & 0\\\\0 & \\frac{1}{\\sqrt{2}} & 0 & \\frac{1}{\\sqrt{2}}\\\\\\frac{1}{\\sqrt{2}} & 0 & - \\frac{\\sqrt{2}}{2} & 0\\\\0 & \\frac{1}{\\sqrt{2}} & 0 & - \\frac{\\sqrt{2}}{2}\\end{matrix}\\right]$"
      ],
      "text/plain": [
       "⎡1        1        ⎤\n",
       "⎢──  0    ──    0  ⎥\n",
       "⎢√2       √2       ⎥\n",
       "⎢                  ⎥\n",
       "⎢    1          1  ⎥\n",
       "⎢0   ──   0     ── ⎥\n",
       "⎢    √2         √2 ⎥\n",
       "⎢                  ⎥\n",
       "⎢1       -√2       ⎥\n",
       "⎢──  0   ────   0  ⎥\n",
       "⎢√2       2        ⎥\n",
       "⎢                  ⎥\n",
       "⎢    1         -√2 ⎥\n",
       "⎢0   ──   0    ────⎥\n",
       "⎣    √2         2  ⎦"
      ]
     },
     "execution_count": 17,
     "metadata": {},
     "output_type": "execute_result"
    }
   ],
   "source": [
    "represent(H(1),nqubits=2)"
   ]
  },
  {
   "cell_type": "markdown",
   "metadata": {},
   "source": [
    "nqubits = 1 の部分は、何個の量子ビットの空間で0番目の量子ビットへのHadamardを行列表示するかを選ぶ。 = 1だと1量子ビットしかいない場合のHadamardの行列表示なので2×2行列。"
   ]
  },
  {
   "cell_type": "markdown",
   "metadata": {},
   "source": [
    "**0番目などの名前の付け方は右から順であることに注意!!!!!**"
   ]
  },
  {
   "cell_type": "code",
   "execution_count": 18,
   "metadata": {},
   "outputs": [
    {
     "data": {
      "image/png": "[encoded data removed]",
      "text/latex": [
       "$\\displaystyle \\left[\\begin{matrix}\\frac{1}{\\sqrt{2}} & \\frac{1}{\\sqrt{2}} & 0 & 0\\\\\\frac{1}{\\sqrt{2}} & - \\frac{\\sqrt{2}}{2} & 0 & 0\\\\0 & 0 & \\frac{1}{\\sqrt{2}} & \\frac{1}{\\sqrt{2}}\\\\0 & 0 & \\frac{1}{\\sqrt{2}} & - \\frac{\\sqrt{2}}{2}\\end{matrix}\\right]$"
      ],
      "text/plain": [
       "⎡1    1            ⎤\n",
       "⎢──   ──   0    0  ⎥\n",
       "⎢√2   √2           ⎥\n",
       "⎢                  ⎥\n",
       "⎢1   -√2           ⎥\n",
       "⎢──  ────  0    0  ⎥\n",
       "⎢√2   2            ⎥\n",
       "⎢                  ⎥\n",
       "⎢          1    1  ⎥\n",
       "⎢0    0    ──   ── ⎥\n",
       "⎢          √2   √2 ⎥\n",
       "⎢                  ⎥\n",
       "⎢          1   -√2 ⎥\n",
       "⎢0    0    ──  ────⎥\n",
       "⎣          √2   2  ⎦"
      ]
     },
     "execution_count": 18,
     "metadata": {},
     "output_type": "execute_result"
    }
   ],
   "source": [
    "represent(H(0),nqubits=2)"
   ]
  },
  {
   "cell_type": "code",
   "execution_count": 30,
   "metadata": {},
   "outputs": [
    {
     "data": {
      "image/png": "[encoded data removed]",
      "text/latex": [
       "$$\\left[\\begin{matrix}\\frac{1}{\\sqrt{2}} & 0 & \\frac{1}{\\sqrt{2}} & 0\\\\0 & \\frac{1}{\\sqrt{2}} & 0 & \\frac{1}{\\sqrt{2}}\\\\\\frac{1}{\\sqrt{2}} & 0 & - \\frac{\\sqrt{2}}{2} & 0\\\\0 & \\frac{1}{\\sqrt{2}} & 0 & - \\frac{\\sqrt{2}}{2}\\end{matrix}\\right]$$"
      ],
      "text/plain": [
       "⎡1        1        ⎤\n",
       "⎢──  0    ──    0  ⎥\n",
       "⎢√2       √2       ⎥\n",
       "⎢                  ⎥\n",
       "⎢    1          1  ⎥\n",
       "⎢0   ──   0     ── ⎥\n",
       "⎢    √2         √2 ⎥\n",
       "⎢                  ⎥\n",
       "⎢1       -√2       ⎥\n",
       "⎢──  0   ────   0  ⎥\n",
       "⎢√2       2        ⎥\n",
       "⎢                  ⎥\n",
       "⎢    1         -√2 ⎥\n",
       "⎢0   ──   0    ────⎥\n",
       "⎣    √2         2  ⎦"
      ]
     },
     "execution_count": 30,
     "metadata": {},
     "output_type": "execute_result"
    }
   ],
   "source": [
    "represent(H(1),nqubits=2)"
   ]
  },
  {
   "cell_type": "code",
   "execution_count": 18,
   "metadata": {},
   "outputs": [
    {
     "data": {
      "image/png": "[encoded data removed]",
      "text/latex": [
       "$$\\left[\\begin{matrix}\\frac{1}{\\sqrt{2}} & \\frac{1}{\\sqrt{2}} & 0 & 0 & 0 & 0 & 0 & 0\\\\\\frac{1}{\\sqrt{2}} & - \\frac{\\sqrt{2}}{2} & 0 & 0 & 0 & 0 & 0 & 0\\\\0 & 0 & \\frac{1}{\\sqrt{2}} & \\frac{1}{\\sqrt{2}} & 0 & 0 & 0 & 0\\\\0 & 0 & \\frac{1}{\\sqrt{2}} & - \\frac{\\sqrt{2}}{2} & 0 & 0 & 0 & 0\\\\0 & 0 & 0 & 0 & \\frac{1}{\\sqrt{2}} & \\frac{1}{\\sqrt{2}} & 0 & 0\\\\0 & 0 & 0 & 0 & \\frac{1}{\\sqrt{2}} & - \\frac{\\sqrt{2}}{2} & 0 & 0\\\\0 & 0 & 0 & 0 & 0 & 0 & \\frac{1}{\\sqrt{2}} & \\frac{1}{\\sqrt{2}}\\\\0 & 0 & 0 & 0 & 0 & 0 & \\frac{1}{\\sqrt{2}} & - \\frac{\\sqrt{2}}{2}\\end{matrix}\\right]$$"
      ],
      "text/plain": [
       "⎡1    1                                ⎤\n",
       "⎢──   ──   0    0    0    0    0    0  ⎥\n",
       "⎢√2   √2                               ⎥\n",
       "⎢                                      ⎥\n",
       "⎢1   -√2                               ⎥\n",
       "⎢──  ────  0    0    0    0    0    0  ⎥\n",
       "⎢√2   2                                ⎥\n",
       "⎢                                      ⎥\n",
       "⎢          1    1                      ⎥\n",
       "⎢0    0    ──   ──   0    0    0    0  ⎥\n",
       "⎢          √2   √2                     ⎥\n",
       "⎢                                      ⎥\n",
       "⎢          1   -√2                     ⎥\n",
       "⎢0    0    ──  ────  0    0    0    0  ⎥\n",
       "⎢          √2   2                      ⎥\n",
       "⎢                                      ⎥\n",
       "⎢                    1    1            ⎥\n",
       "⎢0    0    0    0    ──   ──   0    0  ⎥\n",
       "⎢                    √2   √2           ⎥\n",
       "⎢                                      ⎥\n",
       "⎢                    1   -√2           ⎥\n",
       "⎢0    0    0    0    ──  ────  0    0  ⎥\n",
       "⎢                    √2   2            ⎥\n",
       "⎢                                      ⎥\n",
       "⎢                              1    1  ⎥\n",
       "⎢0    0    0    0    0    0    ──   ── ⎥\n",
       "⎢                              √2   √2 ⎥\n",
       "⎢                                      ⎥\n",
       "⎢                              1   -√2 ⎥\n",
       "⎢0    0    0    0    0    0    ──  ────⎥\n",
       "⎣                              √2   2  ⎦"
      ]
     },
     "execution_count": 18,
     "metadata": {},
     "output_type": "execute_result"
    }
   ],
   "source": [
    "represent(H(0),nqubits=3)"
   ]
  },
  {
   "cell_type": "markdown",
   "metadata": {},
   "source": [
    "量子状態に量子演算を作用させるときは qapply()をつかう。"
   ]
  },
  {
   "cell_type": "code",
   "execution_count": 19,
   "metadata": {},
   "outputs": [
    {
     "data": {
      "image/png": "[encoded data removed]",
      "text/latex": [
       "$\\displaystyle \\frac{\\sqrt{2} {\\left|00\\right\\rangle }}{2} + \\frac{\\sqrt{2} {\\left|10\\right\\rangle }}{2}$"
      ],
      "text/plain": [
       "√2⋅❘00⟩   √2⋅❘10⟩\n",
       "─────── + ───────\n",
       "   2         2   "
      ]
     },
     "execution_count": 19,
     "metadata": {},
     "output_type": "execute_result"
    }
   ],
   "source": [
    "psi = Qubit('00')\n",
    "psi = qapply(H(1)*psi)\n",
    "psi"
   ]
  },
  {
   "cell_type": "code",
   "execution_count": 25,
   "metadata": {},
   "outputs": [
    {
     "data": {
      "image/png": "[encoded data removed]",
      "text/latex": [
       "$${\\left|00\\right\\rangle }$$"
      ],
      "text/plain": [
       "❘00⟩"
      ]
     },
     "execution_count": 25,
     "metadata": {},
     "output_type": "execute_result"
    }
   ],
   "source": [
    "psi = Qubit('00')\n",
    "psi"
   ]
  },
  {
   "cell_type": "code",
   "execution_count": 26,
   "metadata": {},
   "outputs": [
    {
     "data": {
      "image/png": "[encoded data removed]",
      "text/latex": [
       "$$\\frac{\\sqrt{2}}{2} {\\left|00\\right\\rangle } + \\frac{\\sqrt{2}}{2} {\\left|10\\right\\rangle }$$"
      ],
      "text/plain": [
       "√2⋅❘00⟩   √2⋅❘10⟩\n",
       "─────── + ───────\n",
       "   2         2   "
      ]
     },
     "execution_count": 26,
     "metadata": {},
     "output_type": "execute_result"
    }
   ],
   "source": [
    "psi = qapply(H(1)*psi)\n",
    "psi "
   ]
  },
  {
   "cell_type": "code",
   "execution_count": 27,
   "metadata": {},
   "outputs": [
    {
     "data": {
      "image/png": "[encoded data removed]",
      "text/latex": [
       "$$\\left[\\begin{matrix}\\frac{\\sqrt{2}}{2}\\\\0\\\\\\frac{\\sqrt{2}}{2}\\\\0\\end{matrix}\\right]$$"
      ],
      "text/plain": [
       "⎡√2⎤\n",
       "⎢──⎥\n",
       "⎢2 ⎥\n",
       "⎢  ⎥\n",
       "⎢0 ⎥\n",
       "⎢  ⎥\n",
       "⎢√2⎥\n",
       "⎢──⎥\n",
       "⎢2 ⎥\n",
       "⎢  ⎥\n",
       "⎣0 ⎦"
      ]
     },
     "execution_count": 27,
     "metadata": {},
     "output_type": "execute_result"
    }
   ],
   "source": [
    "represent(psi)"
   ]
  },
  {
   "cell_type": "markdown",
   "metadata": {},
   "source": [
    "事前に定義されている1量子ビット演算"
   ]
  },
  {
   "cell_type": "code",
   "execution_count": 33,
   "metadata": {},
   "outputs": [
    {
     "data": {
      "image/png": "[encoded data removed]",
      "text/latex": [
       "$$\\left[\\begin{matrix}1 & 0\\\\0 & i\\end{matrix}\\right]$$"
      ],
      "text/plain": [
       "⎡1  0⎤\n",
       "⎢    ⎥\n",
       "⎣0  ⅈ⎦"
      ]
     },
     "execution_count": 33,
     "metadata": {},
     "output_type": "execute_result"
    }
   ],
   "source": [
    "represent(S(0),nqubits=1)"
   ]
  },
  {
   "cell_type": "code",
   "execution_count": 34,
   "metadata": {},
   "outputs": [
    {
     "data": {
      "image/png": "[encoded data removed]",
      "text/latex": [
       "$$\\left[\\begin{matrix}\\frac{1}{\\sqrt{2}} & \\frac{1}{\\sqrt{2}}\\\\\\frac{1}{\\sqrt{2}} & - \\frac{\\sqrt{2}}{2}\\end{matrix}\\right]$$"
      ],
      "text/plain": [
       "⎡1    1  ⎤\n",
       "⎢──   ── ⎥\n",
       "⎢√2   √2 ⎥\n",
       "⎢        ⎥\n",
       "⎢1   -√2 ⎥\n",
       "⎢──  ────⎥\n",
       "⎣√2   2  ⎦"
      ]
     },
     "execution_count": 34,
     "metadata": {},
     "output_type": "execute_result"
    }
   ],
   "source": [
    "represent(H(0),nqubits=1)"
   ]
  },
  {
   "cell_type": "code",
   "execution_count": 35,
   "metadata": {},
   "outputs": [
    {
     "data": {
      "image/png": "[encoded data removed]",
      "text/latex": [
       "$$\\left[\\begin{matrix}1 & 0\\\\0 & e^{\\frac{i \\pi}{4}}\\end{matrix}\\right]$$"
      ],
      "text/plain": [
       "⎡1   0  ⎤\n",
       "⎢       ⎥\n",
       "⎢    ⅈ⋅π⎥\n",
       "⎢    ───⎥\n",
       "⎢     4 ⎥\n",
       "⎣0  ℯ   ⎦"
      ]
     },
     "execution_count": 35,
     "metadata": {},
     "output_type": "execute_result"
    }
   ],
   "source": [
    "represent(T(0),nqubits=1)"
   ]
  },
  {
   "cell_type": "code",
   "execution_count": 36,
   "metadata": {},
   "outputs": [
    {
     "data": {
      "image/png": "[encoded data removed]",
      "text/latex": [
       "$$\\left[\\begin{matrix}0 & 1\\\\1 & 0\\end{matrix}\\right]$$"
      ],
      "text/plain": [
       "⎡0  1⎤\n",
       "⎢    ⎥\n",
       "⎣1  0⎦"
      ]
     },
     "execution_count": 36,
     "metadata": {},
     "output_type": "execute_result"
    }
   ],
   "source": [
    "represent(X(0),nqubits=1)"
   ]
  },
  {
   "cell_type": "code",
   "execution_count": 37,
   "metadata": {},
   "outputs": [
    {
     "data": {
      "image/png": "[encoded data removed]",
      "text/latex": [
       "$$\\left[\\begin{matrix}0 & - i\\\\i & 0\\end{matrix}\\right]$$"
      ],
      "text/plain": [
       "⎡0  -ⅈ⎤\n",
       "⎢     ⎥\n",
       "⎣ⅈ  0 ⎦"
      ]
     },
     "execution_count": 37,
     "metadata": {},
     "output_type": "execute_result"
    }
   ],
   "source": [
    "represent(Y(0),nqubits=1)"
   ]
  },
  {
   "cell_type": "code",
   "execution_count": 38,
   "metadata": {},
   "outputs": [
    {
     "data": {
      "image/png": "[encoded data removed]",
      "text/latex": [
       "$$\\left[\\begin{matrix}1 & 0\\\\0 & -1\\end{matrix}\\right]$$"
      ],
      "text/plain": [
       "⎡1  0 ⎤\n",
       "⎢     ⎥\n",
       "⎣0  -1⎦"
      ]
     },
     "execution_count": 38,
     "metadata": {},
     "output_type": "execute_result"
    }
   ],
   "source": [
    "represent(Z(0),nqubits=1)"
   ]
  },
  {
   "cell_type": "code",
   "execution_count": 33,
   "metadata": {},
   "outputs": [
    {
     "data": {
      "image/png": "[encoded data removed]",
      "text/latex": [
       "$$- \\frac{\\sqrt{2} i}{2} {\\left|0\\right\\rangle } - \\frac{\\sqrt{2}}{2} {\\left|1\\right\\rangle }$$"
      ],
      "text/plain": [
       "  √2⋅ⅈ⋅❘0⟩   √2⋅❘1⟩\n",
       "- ──────── - ──────\n",
       "     2         2   "
      ]
     },
     "execution_count": 33,
     "metadata": {},
     "output_type": "execute_result"
    }
   ],
   "source": [
    "qapply(S(0)*Y(0)*X(0)*H(0)*Qubit('0'))"
   ]
  },
  {
   "cell_type": "code",
   "execution_count": 38,
   "metadata": {},
   "outputs": [
    {
     "data": {
      "image/png": "[encoded data removed]",
      "text/latex": [
       "$$\\left[\\begin{matrix}- \\frac{i}{2}\\\\- \\frac{1}{2}\\\\- \\frac{i}{2}\\\\- \\frac{1}{2}\\end{matrix}\\right]$$"
      ],
      "text/plain": [
       "⎡-ⅈ  ⎤\n",
       "⎢─── ⎥\n",
       "⎢ 2  ⎥\n",
       "⎢    ⎥\n",
       "⎢-1/2⎥\n",
       "⎢    ⎥\n",
       "⎢-ⅈ  ⎥\n",
       "⎢─── ⎥\n",
       "⎢ 2  ⎥\n",
       "⎢    ⎥\n",
       "⎣-1/2⎦"
      ]
     },
     "execution_count": 38,
     "metadata": {},
     "output_type": "execute_result"
    }
   ],
   "source": [
    "phi = qapply(S(0)*Y(0)*X(0)*H(0)*H(1)*Qubit('00'))\n",
    "represent(phi,nqubits =2)"
   ]
  },
  {
   "cell_type": "code",
   "execution_count": 32,
   "metadata": {},
   "outputs": [
    {
     "data": {
      "image/png": "[encoded data removed]",
      "text/latex": [
       "$$\\left[\\begin{matrix}- \\frac{i}{2}\\\\- \\frac{1}{2}\\\\- \\frac{i}{2}\\\\- \\frac{1}{2}\\end{matrix}\\right]$$"
      ],
      "text/plain": [
       "⎡-ⅈ  ⎤\n",
       "⎢─── ⎥\n",
       "⎢ 2  ⎥\n",
       "⎢    ⎥\n",
       "⎢-1/2⎥\n",
       "⎢    ⎥\n",
       "⎢-ⅈ  ⎥\n",
       "⎢─── ⎥\n",
       "⎢ 2  ⎥\n",
       "⎢    ⎥\n",
       "⎣-1/2⎦"
      ]
     },
     "execution_count": 32,
     "metadata": {},
     "output_type": "execute_result"
    }
   ],
   "source": [
    "represent(S(0)*Y(0)*X(0)*H(0)*H(1)*Qubit('00'),nqubits = 2)"
   ]
  },
  {
   "cell_type": "markdown",
   "metadata": {},
   "source": [
    "シンボリックに状態を定義することもできる。"
   ]
  },
  {
   "cell_type": "code",
   "execution_count": 20,
   "metadata": {},
   "outputs": [
    {
     "data": {
      "image/png": "[encoded data removed]",
      "text/latex": [
       "$\\displaystyle \\left[\\begin{matrix}\\alpha\\\\\\beta\\end{matrix}\\right]$"
      ],
      "text/plain": [
       "⎡α⎤\n",
       "⎢ ⎥\n",
       "⎣β⎦"
      ]
     },
     "execution_count": 20,
     "metadata": {},
     "output_type": "execute_result"
    }
   ],
   "source": [
    "a,b,c,d =symbols(\"alpha,beta,gamma,delta\")\n",
    "psi = a*Qubit(\"0\")+b*Qubit(\"1\")\n",
    "represent(psi)"
   ]
  },
  {
   "cell_type": "code",
   "execution_count": 40,
   "metadata": {},
   "outputs": [
    {
     "data": {
      "image/png": "[encoded data removed]",
      "text/latex": [
       "$$\\alpha {\\left|0\\right\\rangle } + \\beta {\\left|1\\right\\rangle }$$"
      ],
      "text/plain": [
       "α⋅❘0⟩ + β⋅❘1⟩"
      ]
     },
     "execution_count": 40,
     "metadata": {},
     "output_type": "execute_result"
    }
   ],
   "source": [
    "psi "
   ]
  },
  {
   "cell_type": "code",
   "execution_count": 21,
   "metadata": {},
   "outputs": [
    {
     "data": {
      "image/png": "[encoded data removed]",
      "text/latex": [
       "$\\displaystyle \\left[\\begin{matrix}\\gamma\\\\\\delta\\end{matrix}\\right]$"
      ],
      "text/plain": [
       "⎡γ⎤\n",
       "⎢ ⎥\n",
       "⎣δ⎦"
      ]
     },
     "execution_count": 21,
     "metadata": {},
     "output_type": "execute_result"
    }
   ],
   "source": [
    "phi = c* Qubit('0')+d*Qubit('1')\n",
    "represent(phi)"
   ]
  },
  {
   "cell_type": "markdown",
   "metadata": {},
   "source": [
    "テンソル積は、TensorProduct( , )を使う"
   ]
  },
  {
   "cell_type": "code",
   "execution_count": 22,
   "metadata": {},
   "outputs": [
    {
     "data": {
      "image/png": "[encoded data removed]",
      "text/latex": [
       "$\\displaystyle \\left({\\alpha {\\left|0\\right\\rangle } + \\beta {\\left|1\\right\\rangle }}\\right)\\otimes \\left({\\delta {\\left|1\\right\\rangle } + \\gamma {\\left|0\\right\\rangle }}\\right)$"
      ],
      "text/plain": [
       "(α⋅❘0⟩ + β⋅❘1⟩)⨂ (δ⋅❘1⟩ + γ⋅❘0⟩)"
      ]
     },
     "execution_count": 22,
     "metadata": {},
     "output_type": "execute_result"
    }
   ],
   "source": [
    "psiPhi=TensorProduct( psi, phi)\n",
    "psiPhi"
   ]
  },
  {
   "cell_type": "code",
   "execution_count": 23,
   "metadata": {},
   "outputs": [
    {
     "data": {
      "image/png": "[encoded data removed]",
      "text/latex": [
       "$\\displaystyle \\left[\\begin{matrix}\\alpha \\gamma\\\\\\alpha \\delta\\\\\\beta \\gamma\\\\\\beta \\delta\\end{matrix}\\right]$"
      ],
      "text/plain": [
       "⎡α⋅γ⎤\n",
       "⎢   ⎥\n",
       "⎢α⋅δ⎥\n",
       "⎢   ⎥\n",
       "⎢β⋅γ⎥\n",
       "⎢   ⎥\n",
       "⎣β⋅δ⎦"
      ]
     },
     "execution_count": 23,
     "metadata": {},
     "output_type": "execute_result"
    }
   ],
   "source": [
    "represent(psiPhi)"
   ]
  },
  {
   "cell_type": "code",
   "execution_count": 24,
   "metadata": {},
   "outputs": [
    {
     "data": {
      "image/png": "[encoded data removed]",
      "text/latex": [
       "$\\displaystyle {\\left({\\alpha {\\left|0\\right\\rangle } + \\beta {\\left|1\\right\\rangle }}\\right)\\otimes \\left({\\delta {\\left|1\\right\\rangle } + \\gamma {\\left|0\\right\\rangle }}\\right)}\\otimes {\\left({\\alpha {\\left|0\\right\\rangle } + \\beta {\\left|1\\right\\rangle }}\\right)\\otimes \\left({\\delta {\\left|1\\right\\rangle } + \\gamma {\\left|0\\right\\rangle }}\\right)}$"
      ],
      "text/plain": [
       "(α⋅❘0⟩ + β⋅❘1⟩)⨂ (δ⋅❘1⟩ + γ⋅❘0⟩)⨂ (α⋅❘0⟩ + β⋅❘1⟩)⨂ (δ⋅❘1⟩ + γ⋅❘0⟩)"
      ]
     },
     "execution_count": 24,
     "metadata": {},
     "output_type": "execute_result"
    }
   ],
   "source": [
    "TensorProduct(psiPhi,psiPhi)"
   ]
  },
  {
   "cell_type": "code",
   "execution_count": 25,
   "metadata": {},
   "outputs": [
    {
     "data": {
      "image/png": "[encoded data removed]",
      "text/latex": [
       "$\\displaystyle \\left[\\begin{matrix}\\alpha^{2} \\gamma^{2}\\\\\\alpha^{2} \\delta \\gamma\\\\\\alpha \\beta \\gamma^{2}\\\\\\alpha \\beta \\delta \\gamma\\\\\\alpha^{2} \\delta \\gamma\\\\\\alpha^{2} \\delta^{2}\\\\\\alpha \\beta \\delta \\gamma\\\\\\alpha \\beta \\delta^{2}\\\\\\alpha \\beta \\gamma^{2}\\\\\\alpha \\beta \\delta \\gamma\\\\\\beta^{2} \\gamma^{2}\\\\\\beta^{2} \\delta \\gamma\\\\\\alpha \\beta \\delta \\gamma\\\\\\alpha \\beta \\delta^{2}\\\\\\beta^{2} \\delta \\gamma\\\\\\beta^{2} \\delta^{2}\\end{matrix}\\right]$"
      ],
      "text/plain": [
       "⎡  2  2 ⎤\n",
       "⎢ α ⋅γ  ⎥\n",
       "⎢       ⎥\n",
       "⎢ 2     ⎥\n",
       "⎢α ⋅δ⋅γ ⎥\n",
       "⎢       ⎥\n",
       "⎢     2 ⎥\n",
       "⎢α⋅β⋅γ  ⎥\n",
       "⎢       ⎥\n",
       "⎢α⋅β⋅δ⋅γ⎥\n",
       "⎢       ⎥\n",
       "⎢ 2     ⎥\n",
       "⎢α ⋅δ⋅γ ⎥\n",
       "⎢       ⎥\n",
       "⎢  2  2 ⎥\n",
       "⎢ α ⋅δ  ⎥\n",
       "⎢       ⎥\n",
       "⎢α⋅β⋅δ⋅γ⎥\n",
       "⎢       ⎥\n",
       "⎢     2 ⎥\n",
       "⎢α⋅β⋅δ  ⎥\n",
       "⎢       ⎥\n",
       "⎢     2 ⎥\n",
       "⎢α⋅β⋅γ  ⎥\n",
       "⎢       ⎥\n",
       "⎢α⋅β⋅δ⋅γ⎥\n",
       "⎢       ⎥\n",
       "⎢  2  2 ⎥\n",
       "⎢ β ⋅γ  ⎥\n",
       "⎢       ⎥\n",
       "⎢ 2     ⎥\n",
       "⎢β ⋅δ⋅γ ⎥\n",
       "⎢       ⎥\n",
       "⎢α⋅β⋅δ⋅γ⎥\n",
       "⎢       ⎥\n",
       "⎢     2 ⎥\n",
       "⎢α⋅β⋅δ  ⎥\n",
       "⎢       ⎥\n",
       "⎢ 2     ⎥\n",
       "⎢β ⋅δ⋅γ ⎥\n",
       "⎢       ⎥\n",
       "⎢  2  2 ⎥\n",
       "⎣ β ⋅δ  ⎦"
      ]
     },
     "execution_count": 25,
     "metadata": {},
     "output_type": "execute_result"
    }
   ],
   "source": [
    "represent(TensorProduct(psiPhi,psiPhi))"
   ]
  },
  {
   "cell_type": "code",
   "execution_count": 198,
   "metadata": {},
   "outputs": [
    {
     "data": {
      "image/png": "[encoded data removed]",
      "text/latex": [
       "$$\\left[\\begin{matrix}\\alpha^{4} \\gamma^{4}\\\\\\alpha^{4} \\delta \\gamma^{3}\\\\\\alpha^{3} \\beta \\gamma^{4}\\\\\\alpha^{3} \\beta \\delta \\gamma^{3}\\\\\\alpha^{4} \\delta \\gamma^{3}\\\\\\alpha^{4} \\delta^{2} \\gamma^{2}\\\\\\alpha^{3} \\beta \\delta \\gamma^{3}\\\\\\alpha^{3} \\beta \\delta^{2} \\gamma^{2}\\\\\\alpha^{3} \\beta \\gamma^{4}\\\\\\alpha^{3} \\beta \\delta \\gamma^{3}\\\\\\alpha^{2} \\beta^{2} \\gamma^{4}\\\\\\alpha^{2} \\beta^{2} \\delta \\gamma^{3}\\\\\\alpha^{3} \\beta \\delta \\gamma^{3}\\\\\\alpha^{3} \\beta \\delta^{2} \\gamma^{2}\\\\\\alpha^{2} \\beta^{2} \\delta \\gamma^{3}\\\\\\alpha^{2} \\beta^{2} \\delta^{2} \\gamma^{2}\\\\\\alpha^{4} \\delta \\gamma^{3}\\\\\\alpha^{4} \\delta^{2} \\gamma^{2}\\\\\\alpha^{3} \\beta \\delta \\gamma^{3}\\\\\\alpha^{3} \\beta \\delta^{2} \\gamma^{2}\\\\\\alpha^{4} \\delta^{2} \\gamma^{2}\\\\\\alpha^{4} \\delta^{3} \\gamma\\\\\\alpha^{3} \\beta \\delta^{2} \\gamma^{2}\\\\\\alpha^{3} \\beta \\delta^{3} \\gamma\\\\\\alpha^{3} \\beta \\delta \\gamma^{3}\\\\\\alpha^{3} \\beta \\delta^{2} \\gamma^{2}\\\\\\alpha^{2} \\beta^{2} \\delta \\gamma^{3}\\\\\\alpha^{2} \\beta^{2} \\delta^{2} \\gamma^{2}\\\\\\alpha^{3} \\beta \\delta^{2} \\gamma^{2}\\\\\\alpha^{3} \\beta \\delta^{3} \\gamma\\\\\\alpha^{2} \\beta^{2} \\delta^{2} \\gamma^{2}\\\\\\alpha^{2} \\beta^{2} \\delta^{3} \\gamma\\\\\\alpha^{3} \\beta \\gamma^{4}\\\\\\alpha^{3} \\beta \\delta \\gamma^{3}\\\\\\alpha^{2} \\beta^{2} \\gamma^{4}\\\\\\alpha^{2} \\beta^{2} \\delta \\gamma^{3}\\\\\\alpha^{3} \\beta \\delta \\gamma^{3}\\\\\\alpha^{3} \\beta \\delta^{2} \\gamma^{2}\\\\\\alpha^{2} \\beta^{2} \\delta \\gamma^{3}\\\\\\alpha^{2} \\beta^{2} \\delta^{2} \\gamma^{2}\\\\\\alpha^{2} \\beta^{2} \\gamma^{4}\\\\\\alpha^{2} \\beta^{2} \\delta \\gamma^{3}\\\\\\alpha \\beta^{3} \\gamma^{4}\\\\\\alpha \\beta^{3} \\delta \\gamma^{3}\\\\\\alpha^{2} \\beta^{2} \\delta \\gamma^{3}\\\\\\alpha^{2} \\beta^{2} \\delta^{2} \\gamma^{2}\\\\\\alpha \\beta^{3} \\delta \\gamma^{3}\\\\\\alpha \\beta^{3} \\delta^{2} \\gamma^{2}\\\\\\alpha^{3} \\beta \\delta \\gamma^{3}\\\\\\alpha^{3} \\beta \\delta^{2} \\gamma^{2}\\\\\\alpha^{2} \\beta^{2} \\delta \\gamma^{3}\\\\\\alpha^{2} \\beta^{2} \\delta^{2} \\gamma^{2}\\\\\\alpha^{3} \\beta \\delta^{2} \\gamma^{2}\\\\\\alpha^{3} \\beta \\delta^{3} \\gamma\\\\\\alpha^{2} \\beta^{2} \\delta^{2} \\gamma^{2}\\\\\\alpha^{2} \\beta^{2} \\delta^{3} \\gamma\\\\\\alpha^{2} \\beta^{2} \\delta \\gamma^{3}\\\\\\alpha^{2} \\beta^{2} \\delta^{2} \\gamma^{2}\\\\\\alpha \\beta^{3} \\delta \\gamma^{3}\\\\\\alpha \\beta^{3} \\delta^{2} \\gamma^{2}\\\\\\alpha^{2} \\beta^{2} \\delta^{2} \\gamma^{2}\\\\\\alpha^{2} \\beta^{2} \\delta^{3} \\gamma\\\\\\alpha \\beta^{3} \\delta^{2} \\gamma^{2}\\\\\\alpha \\beta^{3} \\delta^{3} \\gamma\\\\\\alpha^{4} \\delta \\gamma^{3}\\\\\\alpha^{4} \\delta^{2} \\gamma^{2}\\\\\\alpha^{3} \\beta \\delta \\gamma^{3}\\\\\\alpha^{3} \\beta \\delta^{2} \\gamma^{2}\\\\\\alpha^{4} \\delta^{2} \\gamma^{2}\\\\\\alpha^{4} \\delta^{3} \\gamma\\\\\\alpha^{3} \\beta \\delta^{2} \\gamma^{2}\\\\\\alpha^{3} \\beta \\delta^{3} \\gamma\\\\\\alpha^{3} \\beta \\delta \\gamma^{3}\\\\\\alpha^{3} \\beta \\delta^{2} \\gamma^{2}\\\\\\alpha^{2} \\beta^{2} \\delta \\gamma^{3}\\\\\\alpha^{2} \\beta^{2} \\delta^{2} \\gamma^{2}\\\\\\alpha^{3} \\beta \\delta^{2} \\gamma^{2}\\\\\\alpha^{3} \\beta \\delta^{3} \\gamma\\\\\\alpha^{2} \\beta^{2} \\delta^{2} \\gamma^{2}\\\\\\alpha^{2} \\beta^{2} \\delta^{3} \\gamma\\\\\\alpha^{4} \\delta^{2} \\gamma^{2}\\\\\\alpha^{4} \\delta^{3} \\gamma\\\\\\alpha^{3} \\beta \\delta^{2} \\gamma^{2}\\\\\\alpha^{3} \\beta \\delta^{3} \\gamma\\\\\\alpha^{4} \\delta^{3} \\gamma\\\\\\alpha^{4} \\delta^{4}\\\\\\alpha^{3} \\beta \\delta^{3} \\gamma\\\\\\alpha^{3} \\beta \\delta^{4}\\\\\\alpha^{3} \\beta \\delta^{2} \\gamma^{2}\\\\\\alpha^{3} \\beta \\delta^{3} \\gamma\\\\\\alpha^{2} \\beta^{2} \\delta^{2} \\gamma^{2}\\\\\\alpha^{2} \\beta^{2} \\delta^{3} \\gamma\\\\\\alpha^{3} \\beta \\delta^{3} \\gamma\\\\\\alpha^{3} \\beta \\delta^{4}\\\\\\alpha^{2} \\beta^{2} \\delta^{3} \\gamma\\\\\\alpha^{2} \\beta^{2} \\delta^{4}\\\\\\alpha^{3} \\beta \\delta \\gamma^{3}\\\\\\alpha^{3} \\beta \\delta^{2} \\gamma^{2}\\\\\\alpha^{2} \\beta^{2} \\delta \\gamma^{3}\\\\\\alpha^{2} \\beta^{2} \\delta^{2} \\gamma^{2}\\\\\\alpha^{3} \\beta \\delta^{2} \\gamma^{2}\\\\\\alpha^{3} \\beta \\delta^{3} \\gamma\\\\\\alpha^{2} \\beta^{2} \\delta^{2} \\gamma^{2}\\\\\\alpha^{2} \\beta^{2} \\delta^{3} \\gamma\\\\\\alpha^{2} \\beta^{2} \\delta \\gamma^{3}\\\\\\alpha^{2} \\beta^{2} \\delta^{2} \\gamma^{2}\\\\\\alpha \\beta^{3} \\delta \\gamma^{3}\\\\\\alpha \\beta^{3} \\delta^{2} \\gamma^{2}\\\\\\alpha^{2} \\beta^{2} \\delta^{2} \\gamma^{2}\\\\\\alpha^{2} \\beta^{2} \\delta^{3} \\gamma\\\\\\alpha \\beta^{3} \\delta^{2} \\gamma^{2}\\\\\\alpha \\beta^{3} \\delta^{3} \\gamma\\\\\\alpha^{3} \\beta \\delta^{2} \\gamma^{2}\\\\\\alpha^{3} \\beta \\delta^{3} \\gamma\\\\\\alpha^{2} \\beta^{2} \\delta^{2} \\gamma^{2}\\\\\\alpha^{2} \\beta^{2} \\delta^{3} \\gamma\\\\\\alpha^{3} \\beta \\delta^{3} \\gamma\\\\\\alpha^{3} \\beta \\delta^{4}\\\\\\alpha^{2} \\beta^{2} \\delta^{3} \\gamma\\\\\\alpha^{2} \\beta^{2} \\delta^{4}\\\\\\alpha^{2} \\beta^{2} \\delta^{2} \\gamma^{2}\\\\\\alpha^{2} \\beta^{2} \\delta^{3} \\gamma\\\\\\alpha \\beta^{3} \\delta^{2} \\gamma^{2}\\\\\\alpha \\beta^{3} \\delta^{3} \\gamma\\\\\\alpha^{2} \\beta^{2} \\delta^{3} \\gamma\\\\\\alpha^{2} \\beta^{2} \\delta^{4}\\\\\\alpha \\beta^{3} \\delta^{3} \\gamma\\\\\\alpha \\beta^{3} \\delta^{4}\\\\\\alpha^{3} \\beta \\gamma^{4}\\\\\\alpha^{3} \\beta \\delta \\gamma^{3}\\\\\\alpha^{2} \\beta^{2} \\gamma^{4}\\\\\\alpha^{2} \\beta^{2} \\delta \\gamma^{3}\\\\\\alpha^{3} \\beta \\delta \\gamma^{3}\\\\\\alpha^{3} \\beta \\delta^{2} \\gamma^{2}\\\\\\alpha^{2} \\beta^{2} \\delta \\gamma^{3}\\\\\\alpha^{2} \\beta^{2} \\delta^{2} \\gamma^{2}\\\\\\alpha^{2} \\beta^{2} \\gamma^{4}\\\\\\alpha^{2} \\beta^{2} \\delta \\gamma^{3}\\\\\\alpha \\beta^{3} \\gamma^{4}\\\\\\alpha \\beta^{3} \\delta \\gamma^{3}\\\\\\alpha^{2} \\beta^{2} \\delta \\gamma^{3}\\\\\\alpha^{2} \\beta^{2} \\delta^{2} \\gamma^{2}\\\\\\alpha \\beta^{3} \\delta \\gamma^{3}\\\\\\alpha \\beta^{3} \\delta^{2} \\gamma^{2}\\\\\\alpha^{3} \\beta \\delta \\gamma^{3}\\\\\\alpha^{3} \\beta \\delta^{2} \\gamma^{2}\\\\\\alpha^{2} \\beta^{2} \\delta \\gamma^{3}\\\\\\alpha^{2} \\beta^{2} \\delta^{2} \\gamma^{2}\\\\\\alpha^{3} \\beta \\delta^{2} \\gamma^{2}\\\\\\alpha^{3} \\beta \\delta^{3} \\gamma\\\\\\alpha^{2} \\beta^{2} \\delta^{2} \\gamma^{2}\\\\\\alpha^{2} \\beta^{2} \\delta^{3} \\gamma\\\\\\alpha^{2} \\beta^{2} \\delta \\gamma^{3}\\\\\\alpha^{2} \\beta^{2} \\delta^{2} \\gamma^{2}\\\\\\alpha \\beta^{3} \\delta \\gamma^{3}\\\\\\alpha \\beta^{3} \\delta^{2} \\gamma^{2}\\\\\\alpha^{2} \\beta^{2} \\delta^{2} \\gamma^{2}\\\\\\alpha^{2} \\beta^{2} \\delta^{3} \\gamma\\\\\\alpha \\beta^{3} \\delta^{2} \\gamma^{2}\\\\\\alpha \\beta^{3} \\delta^{3} \\gamma\\\\\\alpha^{2} \\beta^{2} \\gamma^{4}\\\\\\alpha^{2} \\beta^{2} \\delta \\gamma^{3}\\\\\\alpha \\beta^{3} \\gamma^{4}\\\\\\alpha \\beta^{3} \\delta \\gamma^{3}\\\\\\alpha^{2} \\beta^{2} \\delta \\gamma^{3}\\\\\\alpha^{2} \\beta^{2} \\delta^{2} \\gamma^{2}\\\\\\alpha \\beta^{3} \\delta \\gamma^{3}\\\\\\alpha \\beta^{3} \\delta^{2} \\gamma^{2}\\\\\\alpha \\beta^{3} \\gamma^{4}\\\\\\alpha \\beta^{3} \\delta \\gamma^{3}\\\\\\beta^{4} \\gamma^{4}\\\\\\beta^{4} \\delta \\gamma^{3}\\\\\\alpha \\beta^{3} \\delta \\gamma^{3}\\\\\\alpha \\beta^{3} \\delta^{2} \\gamma^{2}\\\\\\beta^{4} \\delta \\gamma^{3}\\\\\\beta^{4} \\delta^{2} \\gamma^{2}\\\\\\alpha^{2} \\beta^{2} \\delta \\gamma^{3}\\\\\\alpha^{2} \\beta^{2} \\delta^{2} \\gamma^{2}\\\\\\alpha \\beta^{3} \\delta \\gamma^{3}\\\\\\alpha \\beta^{3} \\delta^{2} \\gamma^{2}\\\\\\alpha^{2} \\beta^{2} \\delta^{2} \\gamma^{2}\\\\\\alpha^{2} \\beta^{2} \\delta^{3} \\gamma\\\\\\alpha \\beta^{3} \\delta^{2} \\gamma^{2}\\\\\\alpha \\beta^{3} \\delta^{3} \\gamma\\\\\\alpha \\beta^{3} \\delta \\gamma^{3}\\\\\\alpha \\beta^{3} \\delta^{2} \\gamma^{2}\\\\\\beta^{4} \\delta \\gamma^{3}\\\\\\beta^{4} \\delta^{2} \\gamma^{2}\\\\\\alpha \\beta^{3} \\delta^{2} \\gamma^{2}\\\\\\alpha \\beta^{3} \\delta^{3} \\gamma\\\\\\beta^{4} \\delta^{2} \\gamma^{2}\\\\\\beta^{4} \\delta^{3} \\gamma\\\\\\alpha^{3} \\beta \\delta \\gamma^{3}\\\\\\alpha^{3} \\beta \\delta^{2} \\gamma^{2}\\\\\\alpha^{2} \\beta^{2} \\delta \\gamma^{3}\\\\\\alpha^{2} \\beta^{2} \\delta^{2} \\gamma^{2}\\\\\\alpha^{3} \\beta \\delta^{2} \\gamma^{2}\\\\\\alpha^{3} \\beta \\delta^{3} \\gamma\\\\\\alpha^{2} \\beta^{2} \\delta^{2} \\gamma^{2}\\\\\\alpha^{2} \\beta^{2} \\delta^{3} \\gamma\\\\\\alpha^{2} \\beta^{2} \\delta \\gamma^{3}\\\\\\alpha^{2} \\beta^{2} \\delta^{2} \\gamma^{2}\\\\\\alpha \\beta^{3} \\delta \\gamma^{3}\\\\\\alpha \\beta^{3} \\delta^{2} \\gamma^{2}\\\\\\alpha^{2} \\beta^{2} \\delta^{2} \\gamma^{2}\\\\\\alpha^{2} \\beta^{2} \\delta^{3} \\gamma\\\\\\alpha \\beta^{3} \\delta^{2} \\gamma^{2}\\\\\\alpha \\beta^{3} \\delta^{3} \\gamma\\\\\\alpha^{3} \\beta \\delta^{2} \\gamma^{2}\\\\\\alpha^{3} \\beta \\delta^{3} \\gamma\\\\\\alpha^{2} \\beta^{2} \\delta^{2} \\gamma^{2}\\\\\\alpha^{2} \\beta^{2} \\delta^{3} \\gamma\\\\\\alpha^{3} \\beta \\delta^{3} \\gamma\\\\\\alpha^{3} \\beta \\delta^{4}\\\\\\alpha^{2} \\beta^{2} \\delta^{3} \\gamma\\\\\\alpha^{2} \\beta^{2} \\delta^{4}\\\\\\alpha^{2} \\beta^{2} \\delta^{2} \\gamma^{2}\\\\\\alpha^{2} \\beta^{2} \\delta^{3} \\gamma\\\\\\alpha \\beta^{3} \\delta^{2} \\gamma^{2}\\\\\\alpha \\beta^{3} \\delta^{3} \\gamma\\\\\\alpha^{2} \\beta^{2} \\delta^{3} \\gamma\\\\\\alpha^{2} \\beta^{2} \\delta^{4}\\\\\\alpha \\beta^{3} \\delta^{3} \\gamma\\\\\\alpha \\beta^{3} \\delta^{4}\\\\\\alpha^{2} \\beta^{2} \\delta \\gamma^{3}\\\\\\alpha^{2} \\beta^{2} \\delta^{2} \\gamma^{2}\\\\\\alpha \\beta^{3} \\delta \\gamma^{3}\\\\\\alpha \\beta^{3} \\delta^{2} \\gamma^{2}\\\\\\alpha^{2} \\beta^{2} \\delta^{2} \\gamma^{2}\\\\\\alpha^{2} \\beta^{2} \\delta^{3} \\gamma\\\\\\alpha \\beta^{3} \\delta^{2} \\gamma^{2}\\\\\\alpha \\beta^{3} \\delta^{3} \\gamma\\\\\\alpha \\beta^{3} \\delta \\gamma^{3}\\\\\\alpha \\beta^{3} \\delta^{2} \\gamma^{2}\\\\\\beta^{4} \\delta \\gamma^{3}\\\\\\beta^{4} \\delta^{2} \\gamma^{2}\\\\\\alpha \\beta^{3} \\delta^{2} \\gamma^{2}\\\\\\alpha \\beta^{3} \\delta^{3} \\gamma\\\\\\beta^{4} \\delta^{2} \\gamma^{2}\\\\\\beta^{4} \\delta^{3} \\gamma\\\\\\alpha^{2} \\beta^{2} \\delta^{2} \\gamma^{2}\\\\\\alpha^{2} \\beta^{2} \\delta^{3} \\gamma\\\\\\alpha \\beta^{3} \\delta^{2} \\gamma^{2}\\\\\\alpha \\beta^{3} \\delta^{3} \\gamma\\\\\\alpha^{2} \\beta^{2} \\delta^{3} \\gamma\\\\\\alpha^{2} \\beta^{2} \\delta^{4}\\\\\\alpha \\beta^{3} \\delta^{3} \\gamma\\\\\\alpha \\beta^{3} \\delta^{4}\\\\\\alpha \\beta^{3} \\delta^{2} \\gamma^{2}\\\\\\alpha \\beta^{3} \\delta^{3} \\gamma\\\\\\beta^{4} \\delta^{2} \\gamma^{2}\\\\\\beta^{4} \\delta^{3} \\gamma\\\\\\alpha \\beta^{3} \\delta^{3} \\gamma\\\\\\alpha \\beta^{3} \\delta^{4}\\\\\\beta^{4} \\delta^{3} \\gamma\\\\\\beta^{4} \\delta^{4}\\end{matrix}\\right]$$"
      ],
      "text/plain": [
       "⎡    4  4   ⎤\n",
       "⎢   α ⋅γ    ⎥\n",
       "⎢           ⎥\n",
       "⎢   4    3  ⎥\n",
       "⎢  α ⋅δ⋅γ   ⎥\n",
       "⎢           ⎥\n",
       "⎢   3    4  ⎥\n",
       "⎢  α ⋅β⋅γ   ⎥\n",
       "⎢           ⎥\n",
       "⎢  3      3 ⎥\n",
       "⎢ α ⋅β⋅δ⋅γ  ⎥\n",
       "⎢           ⎥\n",
       "⎢   4    3  ⎥\n",
       "⎢  α ⋅δ⋅γ   ⎥\n",
       "⎢           ⎥\n",
       "⎢  4  2  2  ⎥\n",
       "⎢ α ⋅δ ⋅γ   ⎥\n",
       "⎢           ⎥\n",
       "⎢  3      3 ⎥\n",
       "⎢ α ⋅β⋅δ⋅γ  ⎥\n",
       "⎢           ⎥\n",
       "⎢ 3    2  2 ⎥\n",
       "⎢α ⋅β⋅δ ⋅γ  ⎥\n",
       "⎢           ⎥\n",
       "⎢   3    4  ⎥\n",
       "⎢  α ⋅β⋅γ   ⎥\n",
       "⎢           ⎥\n",
       "⎢  3      3 ⎥\n",
       "⎢ α ⋅β⋅δ⋅γ  ⎥\n",
       "⎢           ⎥\n",
       "⎢  2  2  4  ⎥\n",
       "⎢ α ⋅β ⋅γ   ⎥\n",
       "⎢           ⎥\n",
       "⎢ 2  2    3 ⎥\n",
       "⎢α ⋅β ⋅δ⋅γ  ⎥\n",
       "⎢           ⎥\n",
       "⎢  3      3 ⎥\n",
       "⎢ α ⋅β⋅δ⋅γ  ⎥\n",
       "⎢           ⎥\n",
       "⎢ 3    2  2 ⎥\n",
       "⎢α ⋅β⋅δ ⋅γ  ⎥\n",
       "⎢           ⎥\n",
       "⎢ 2  2    3 ⎥\n",
       "⎢α ⋅β ⋅δ⋅γ  ⎥\n",
       "⎢           ⎥\n",
       "⎢ 2  2  2  2⎥\n",
       "⎢α ⋅β ⋅δ ⋅γ ⎥\n",
       "⎢           ⎥\n",
       "⎢   4    3  ⎥\n",
       "⎢  α ⋅δ⋅γ   ⎥\n",
       "⎢           ⎥\n",
       "⎢  4  2  2  ⎥\n",
       "⎢ α ⋅δ ⋅γ   ⎥\n",
       "⎢           ⎥\n",
       "⎢  3      3 ⎥\n",
       "⎢ α ⋅β⋅δ⋅γ  ⎥\n",
       "⎢           ⎥\n",
       "⎢ 3    2  2 ⎥\n",
       "⎢α ⋅β⋅δ ⋅γ  ⎥\n",
       "⎢           ⎥\n",
       "⎢  4  2  2  ⎥\n",
       "⎢ α ⋅δ ⋅γ   ⎥\n",
       "⎢           ⎥\n",
       "⎢   4  3    ⎥\n",
       "⎢  α ⋅δ ⋅γ  ⎥\n",
       "⎢           ⎥\n",
       "⎢ 3    2  2 ⎥\n",
       "⎢α ⋅β⋅δ ⋅γ  ⎥\n",
       "⎢           ⎥\n",
       "⎢  3    3   ⎥\n",
       "⎢ α ⋅β⋅δ ⋅γ ⎥\n",
       "⎢           ⎥\n",
       "⎢  3      3 ⎥\n",
       "⎢ α ⋅β⋅δ⋅γ  ⎥\n",
       "⎢           ⎥\n",
       "⎢ 3    2  2 ⎥\n",
       "⎢α ⋅β⋅δ ⋅γ  ⎥\n",
       "⎢           ⎥\n",
       "⎢ 2  2    3 ⎥\n",
       "⎢α ⋅β ⋅δ⋅γ  ⎥\n",
       "⎢           ⎥\n",
       "⎢ 2  2  2  2⎥\n",
       "⎢α ⋅β ⋅δ ⋅γ ⎥\n",
       "⎢           ⎥\n",
       "⎢ 3    2  2 ⎥\n",
       "⎢α ⋅β⋅δ ⋅γ  ⎥\n",
       "⎢           ⎥\n",
       "⎢  3    3   ⎥\n",
       "⎢ α ⋅β⋅δ ⋅γ ⎥\n",
       "⎢           ⎥\n",
       "⎢ 2  2  2  2⎥\n",
       "⎢α ⋅β ⋅δ ⋅γ ⎥\n",
       "⎢           ⎥\n",
       "⎢ 2  2  3   ⎥\n",
       "⎢α ⋅β ⋅δ ⋅γ ⎥\n",
       "⎢           ⎥\n",
       "⎢   3    4  ⎥\n",
       "⎢  α ⋅β⋅γ   ⎥\n",
       "⎢           ⎥\n",
       "⎢  3      3 ⎥\n",
       "⎢ α ⋅β⋅δ⋅γ  ⎥\n",
       "⎢           ⎥\n",
       "⎢  2  2  4  ⎥\n",
       "⎢ α ⋅β ⋅γ   ⎥\n",
       "⎢           ⎥\n",
       "⎢ 2  2    3 ⎥\n",
       "⎢α ⋅β ⋅δ⋅γ  ⎥\n",
       "⎢           ⎥\n",
       "⎢  3      3 ⎥\n",
       "⎢ α ⋅β⋅δ⋅γ  ⎥\n",
       "⎢           ⎥\n",
       "⎢ 3    2  2 ⎥\n",
       "⎢α ⋅β⋅δ ⋅γ  ⎥\n",
       "⎢           ⎥\n",
       "⎢ 2  2    3 ⎥\n",
       "⎢α ⋅β ⋅δ⋅γ  ⎥\n",
       "⎢           ⎥\n",
       "⎢ 2  2  2  2⎥\n",
       "⎢α ⋅β ⋅δ ⋅γ ⎥\n",
       "⎢           ⎥\n",
       "⎢  2  2  4  ⎥\n",
       "⎢ α ⋅β ⋅γ   ⎥\n",
       "⎢           ⎥\n",
       "⎢ 2  2    3 ⎥\n",
       "⎢α ⋅β ⋅δ⋅γ  ⎥\n",
       "⎢           ⎥\n",
       "⎢     3  4  ⎥\n",
       "⎢  α⋅β ⋅γ   ⎥\n",
       "⎢           ⎥\n",
       "⎢    3    3 ⎥\n",
       "⎢ α⋅β ⋅δ⋅γ  ⎥\n",
       "⎢           ⎥\n",
       "⎢ 2  2    3 ⎥\n",
       "⎢α ⋅β ⋅δ⋅γ  ⎥\n",
       "⎢           ⎥\n",
       "⎢ 2  2  2  2⎥\n",
       "⎢α ⋅β ⋅δ ⋅γ ⎥\n",
       "⎢           ⎥\n",
       "⎢    3    3 ⎥\n",
       "⎢ α⋅β ⋅δ⋅γ  ⎥\n",
       "⎢           ⎥\n",
       "⎢   3  2  2 ⎥\n",
       "⎢α⋅β ⋅δ ⋅γ  ⎥\n",
       "⎢           ⎥\n",
       "⎢  3      3 ⎥\n",
       "⎢ α ⋅β⋅δ⋅γ  ⎥\n",
       "⎢           ⎥\n",
       "⎢ 3    2  2 ⎥\n",
       "⎢α ⋅β⋅δ ⋅γ  ⎥\n",
       "⎢           ⎥\n",
       "⎢ 2  2    3 ⎥\n",
       "⎢α ⋅β ⋅δ⋅γ  ⎥\n",
       "⎢           ⎥\n",
       "⎢ 2  2  2  2⎥\n",
       "⎢α ⋅β ⋅δ ⋅γ ⎥\n",
       "⎢           ⎥\n",
       "⎢ 3    2  2 ⎥\n",
       "⎢α ⋅β⋅δ ⋅γ  ⎥\n",
       "⎢           ⎥\n",
       "⎢  3    3   ⎥\n",
       "⎢ α ⋅β⋅δ ⋅γ ⎥\n",
       "⎢           ⎥\n",
       "⎢ 2  2  2  2⎥\n",
       "⎢α ⋅β ⋅δ ⋅γ ⎥\n",
       "⎢           ⎥\n",
       "⎢ 2  2  3   ⎥\n",
       "⎢α ⋅β ⋅δ ⋅γ ⎥\n",
       "⎢           ⎥\n",
       "⎢ 2  2    3 ⎥\n",
       "⎢α ⋅β ⋅δ⋅γ  ⎥\n",
       "⎢           ⎥\n",
       "⎢ 2  2  2  2⎥\n",
       "⎢α ⋅β ⋅δ ⋅γ ⎥\n",
       "⎢           ⎥\n",
       "⎢    3    3 ⎥\n",
       "⎢ α⋅β ⋅δ⋅γ  ⎥\n",
       "⎢           ⎥\n",
       "⎢   3  2  2 ⎥\n",
       "⎢α⋅β ⋅δ ⋅γ  ⎥\n",
       "⎢           ⎥\n",
       "⎢ 2  2  2  2⎥\n",
       "⎢α ⋅β ⋅δ ⋅γ ⎥\n",
       "⎢           ⎥\n",
       "⎢ 2  2  3   ⎥\n",
       "⎢α ⋅β ⋅δ ⋅γ ⎥\n",
       "⎢           ⎥\n",
       "⎢   3  2  2 ⎥\n",
       "⎢α⋅β ⋅δ ⋅γ  ⎥\n",
       "⎢           ⎥\n",
       "⎢    3  3   ⎥\n",
       "⎢ α⋅β ⋅δ ⋅γ ⎥\n",
       "⎢           ⎥\n",
       "⎢   4    3  ⎥\n",
       "⎢  α ⋅δ⋅γ   ⎥\n",
       "⎢           ⎥\n",
       "⎢  4  2  2  ⎥\n",
       "⎢ α ⋅δ ⋅γ   ⎥\n",
       "⎢           ⎥\n",
       "⎢  3      3 ⎥\n",
       "⎢ α ⋅β⋅δ⋅γ  ⎥\n",
       "⎢           ⎥\n",
       "⎢ 3    2  2 ⎥\n",
       "⎢α ⋅β⋅δ ⋅γ  ⎥\n",
       "⎢           ⎥\n",
       "⎢  4  2  2  ⎥\n",
       "⎢ α ⋅δ ⋅γ   ⎥\n",
       "⎢           ⎥\n",
       "⎢   4  3    ⎥\n",
       "⎢  α ⋅δ ⋅γ  ⎥\n",
       "⎢           ⎥\n",
       "⎢ 3    2  2 ⎥\n",
       "⎢α ⋅β⋅δ ⋅γ  ⎥\n",
       "⎢           ⎥\n",
       "⎢  3    3   ⎥\n",
       "⎢ α ⋅β⋅δ ⋅γ ⎥\n",
       "⎢           ⎥\n",
       "⎢  3      3 ⎥\n",
       "⎢ α ⋅β⋅δ⋅γ  ⎥\n",
       "⎢           ⎥\n",
       "⎢ 3    2  2 ⎥\n",
       "⎢α ⋅β⋅δ ⋅γ  ⎥\n",
       "⎢           ⎥\n",
       "⎢ 2  2    3 ⎥\n",
       "⎢α ⋅β ⋅δ⋅γ  ⎥\n",
       "⎢           ⎥\n",
       "⎢ 2  2  2  2⎥\n",
       "⎢α ⋅β ⋅δ ⋅γ ⎥\n",
       "⎢           ⎥\n",
       "⎢ 3    2  2 ⎥\n",
       "⎢α ⋅β⋅δ ⋅γ  ⎥\n",
       "⎢           ⎥\n",
       "⎢  3    3   ⎥\n",
       "⎢ α ⋅β⋅δ ⋅γ ⎥\n",
       "⎢           ⎥\n",
       "⎢ 2  2  2  2⎥\n",
       "⎢α ⋅β ⋅δ ⋅γ ⎥\n",
       "⎢           ⎥\n",
       "⎢ 2  2  3   ⎥\n",
       "⎢α ⋅β ⋅δ ⋅γ ⎥\n",
       "⎢           ⎥\n",
       "⎢  4  2  2  ⎥\n",
       "⎢ α ⋅δ ⋅γ   ⎥\n",
       "⎢           ⎥\n",
       "⎢   4  3    ⎥\n",
       "⎢  α ⋅δ ⋅γ  ⎥\n",
       "⎢           ⎥\n",
       "⎢ 3    2  2 ⎥\n",
       "⎢α ⋅β⋅δ ⋅γ  ⎥\n",
       "⎢           ⎥\n",
       "⎢  3    3   ⎥\n",
       "⎢ α ⋅β⋅δ ⋅γ ⎥\n",
       "⎢           ⎥\n",
       "⎢   4  3    ⎥\n",
       "⎢  α ⋅δ ⋅γ  ⎥\n",
       "⎢           ⎥\n",
       "⎢    4  4   ⎥\n",
       "⎢   α ⋅δ    ⎥\n",
       "⎢           ⎥\n",
       "⎢  3    3   ⎥\n",
       "⎢ α ⋅β⋅δ ⋅γ ⎥\n",
       "⎢           ⎥\n",
       "⎢   3    4  ⎥\n",
       "⎢  α ⋅β⋅δ   ⎥\n",
       "⎢           ⎥\n",
       "⎢ 3    2  2 ⎥\n",
       "⎢α ⋅β⋅δ ⋅γ  ⎥\n",
       "⎢           ⎥\n",
       "⎢  3    3   ⎥\n",
       "⎢ α ⋅β⋅δ ⋅γ ⎥\n",
       "⎢           ⎥\n",
       "⎢ 2  2  2  2⎥\n",
       "⎢α ⋅β ⋅δ ⋅γ ⎥\n",
       "⎢           ⎥\n",
       "⎢ 2  2  3   ⎥\n",
       "⎢α ⋅β ⋅δ ⋅γ ⎥\n",
       "⎢           ⎥\n",
       "⎢  3    3   ⎥\n",
       "⎢ α ⋅β⋅δ ⋅γ ⎥\n",
       "⎢           ⎥\n",
       "⎢   3    4  ⎥\n",
       "⎢  α ⋅β⋅δ   ⎥\n",
       "⎢           ⎥\n",
       "⎢ 2  2  3   ⎥\n",
       "⎢α ⋅β ⋅δ ⋅γ ⎥\n",
       "⎢           ⎥\n",
       "⎢  2  2  4  ⎥\n",
       "⎢ α ⋅β ⋅δ   ⎥\n",
       "⎢           ⎥\n",
       "⎢  3      3 ⎥\n",
       "⎢ α ⋅β⋅δ⋅γ  ⎥\n",
       "⎢           ⎥\n",
       "⎢ 3    2  2 ⎥\n",
       "⎢α ⋅β⋅δ ⋅γ  ⎥\n",
       "⎢           ⎥\n",
       "⎢ 2  2    3 ⎥\n",
       "⎢α ⋅β ⋅δ⋅γ  ⎥\n",
       "⎢           ⎥\n",
       "⎢ 2  2  2  2⎥\n",
       "⎢α ⋅β ⋅δ ⋅γ ⎥\n",
       "⎢           ⎥\n",
       "⎢ 3    2  2 ⎥\n",
       "⎢α ⋅β⋅δ ⋅γ  ⎥\n",
       "⎢           ⎥\n",
       "⎢  3    3   ⎥\n",
       "⎢ α ⋅β⋅δ ⋅γ ⎥\n",
       "⎢           ⎥\n",
       "⎢ 2  2  2  2⎥\n",
       "⎢α ⋅β ⋅δ ⋅γ ⎥\n",
       "⎢           ⎥\n",
       "⎢ 2  2  3   ⎥\n",
       "⎢α ⋅β ⋅δ ⋅γ ⎥\n",
       "⎢           ⎥\n",
       "⎢ 2  2    3 ⎥\n",
       "⎢α ⋅β ⋅δ⋅γ  ⎥\n",
       "⎢           ⎥\n",
       "⎢ 2  2  2  2⎥\n",
       "⎢α ⋅β ⋅δ ⋅γ ⎥\n",
       "⎢           ⎥\n",
       "⎢    3    3 ⎥\n",
       "⎢ α⋅β ⋅δ⋅γ  ⎥\n",
       "⎢           ⎥\n",
       "⎢   3  2  2 ⎥\n",
       "⎢α⋅β ⋅δ ⋅γ  ⎥\n",
       "⎢           ⎥\n",
       "⎢ 2  2  2  2⎥\n",
       "⎢α ⋅β ⋅δ ⋅γ ⎥\n",
       "⎢           ⎥\n",
       "⎢ 2  2  3   ⎥\n",
       "⎢α ⋅β ⋅δ ⋅γ ⎥\n",
       "⎢           ⎥\n",
       "⎢   3  2  2 ⎥\n",
       "⎢α⋅β ⋅δ ⋅γ  ⎥\n",
       "⎢           ⎥\n",
       "⎢    3  3   ⎥\n",
       "⎢ α⋅β ⋅δ ⋅γ ⎥\n",
       "⎢           ⎥\n",
       "⎢ 3    2  2 ⎥\n",
       "⎢α ⋅β⋅δ ⋅γ  ⎥\n",
       "⎢           ⎥\n",
       "⎢  3    3   ⎥\n",
       "⎢ α ⋅β⋅δ ⋅γ ⎥\n",
       "⎢           ⎥\n",
       "⎢ 2  2  2  2⎥\n",
       "⎢α ⋅β ⋅δ ⋅γ ⎥\n",
       "⎢           ⎥\n",
       "⎢ 2  2  3   ⎥\n",
       "⎢α ⋅β ⋅δ ⋅γ ⎥\n",
       "⎢           ⎥\n",
       "⎢  3    3   ⎥\n",
       "⎢ α ⋅β⋅δ ⋅γ ⎥\n",
       "⎢           ⎥\n",
       "⎢   3    4  ⎥\n",
       "⎢  α ⋅β⋅δ   ⎥\n",
       "⎢           ⎥\n",
       "⎢ 2  2  3   ⎥\n",
       "⎢α ⋅β ⋅δ ⋅γ ⎥\n",
       "⎢           ⎥\n",
       "⎢  2  2  4  ⎥\n",
       "⎢ α ⋅β ⋅δ   ⎥\n",
       "⎢           ⎥\n",
       "⎢ 2  2  2  2⎥\n",
       "⎢α ⋅β ⋅δ ⋅γ ⎥\n",
       "⎢           ⎥\n",
       "⎢ 2  2  3   ⎥\n",
       "⎢α ⋅β ⋅δ ⋅γ ⎥\n",
       "⎢           ⎥\n",
       "⎢   3  2  2 ⎥\n",
       "⎢α⋅β ⋅δ ⋅γ  ⎥\n",
       "⎢           ⎥\n",
       "⎢    3  3   ⎥\n",
       "⎢ α⋅β ⋅δ ⋅γ ⎥\n",
       "⎢           ⎥\n",
       "⎢ 2  2  3   ⎥\n",
       "⎢α ⋅β ⋅δ ⋅γ ⎥\n",
       "⎢           ⎥\n",
       "⎢  2  2  4  ⎥\n",
       "⎢ α ⋅β ⋅δ   ⎥\n",
       "⎢           ⎥\n",
       "⎢    3  3   ⎥\n",
       "⎢ α⋅β ⋅δ ⋅γ ⎥\n",
       "⎢           ⎥\n",
       "⎢     3  4  ⎥\n",
       "⎢  α⋅β ⋅δ   ⎥\n",
       "⎢           ⎥\n",
       "⎢   3    4  ⎥\n",
       "⎢  α ⋅β⋅γ   ⎥\n",
       "⎢           ⎥\n",
       "⎢  3      3 ⎥\n",
       "⎢ α ⋅β⋅δ⋅γ  ⎥\n",
       "⎢           ⎥\n",
       "⎢  2  2  4  ⎥\n",
       "⎢ α ⋅β ⋅γ   ⎥\n",
       "⎢           ⎥\n",
       "⎢ 2  2    3 ⎥\n",
       "⎢α ⋅β ⋅δ⋅γ  ⎥\n",
       "⎢           ⎥\n",
       "⎢  3      3 ⎥\n",
       "⎢ α ⋅β⋅δ⋅γ  ⎥\n",
       "⎢           ⎥\n",
       "⎢ 3    2  2 ⎥\n",
       "⎢α ⋅β⋅δ ⋅γ  ⎥\n",
       "⎢           ⎥\n",
       "⎢ 2  2    3 ⎥\n",
       "⎢α ⋅β ⋅δ⋅γ  ⎥\n",
       "⎢           ⎥\n",
       "⎢ 2  2  2  2⎥\n",
       "⎢α ⋅β ⋅δ ⋅γ ⎥\n",
       "⎢           ⎥\n",
       "⎢  2  2  4  ⎥\n",
       "⎢ α ⋅β ⋅γ   ⎥\n",
       "⎢           ⎥\n",
       "⎢ 2  2    3 ⎥\n",
       "⎢α ⋅β ⋅δ⋅γ  ⎥\n",
       "⎢           ⎥\n",
       "⎢     3  4  ⎥\n",
       "⎢  α⋅β ⋅γ   ⎥\n",
       "⎢           ⎥\n",
       "⎢    3    3 ⎥\n",
       "⎢ α⋅β ⋅δ⋅γ  ⎥\n",
       "⎢           ⎥\n",
       "⎢ 2  2    3 ⎥\n",
       "⎢α ⋅β ⋅δ⋅γ  ⎥\n",
       "⎢           ⎥\n",
       "⎢ 2  2  2  2⎥\n",
       "⎢α ⋅β ⋅δ ⋅γ ⎥\n",
       "⎢           ⎥\n",
       "⎢    3    3 ⎥\n",
       "⎢ α⋅β ⋅δ⋅γ  ⎥\n",
       "⎢           ⎥\n",
       "⎢   3  2  2 ⎥\n",
       "⎢α⋅β ⋅δ ⋅γ  ⎥\n",
       "⎢           ⎥\n",
       "⎢  3      3 ⎥\n",
       "⎢ α ⋅β⋅δ⋅γ  ⎥\n",
       "⎢           ⎥\n",
       "⎢ 3    2  2 ⎥\n",
       "⎢α ⋅β⋅δ ⋅γ  ⎥\n",
       "⎢           ⎥\n",
       "⎢ 2  2    3 ⎥\n",
       "⎢α ⋅β ⋅δ⋅γ  ⎥\n",
       "⎢           ⎥\n",
       "⎢ 2  2  2  2⎥\n",
       "⎢α ⋅β ⋅δ ⋅γ ⎥\n",
       "⎢           ⎥\n",
       "⎢ 3    2  2 ⎥\n",
       "⎢α ⋅β⋅δ ⋅γ  ⎥\n",
       "⎢           ⎥\n",
       "⎢  3    3   ⎥\n",
       "⎢ α ⋅β⋅δ ⋅γ ⎥\n",
       "⎢           ⎥\n",
       "⎢ 2  2  2  2⎥\n",
       "⎢α ⋅β ⋅δ ⋅γ ⎥\n",
       "⎢           ⎥\n",
       "⎢ 2  2  3   ⎥\n",
       "⎢α ⋅β ⋅δ ⋅γ ⎥\n",
       "⎢           ⎥\n",
       "⎢ 2  2    3 ⎥\n",
       "⎢α ⋅β ⋅δ⋅γ  ⎥\n",
       "⎢           ⎥\n",
       "⎢ 2  2  2  2⎥\n",
       "⎢α ⋅β ⋅δ ⋅γ ⎥\n",
       "⎢           ⎥\n",
       "⎢    3    3 ⎥\n",
       "⎢ α⋅β ⋅δ⋅γ  ⎥\n",
       "⎢           ⎥\n",
       "⎢   3  2  2 ⎥\n",
       "⎢α⋅β ⋅δ ⋅γ  ⎥\n",
       "⎢           ⎥\n",
       "⎢ 2  2  2  2⎥\n",
       "⎢α ⋅β ⋅δ ⋅γ ⎥\n",
       "⎢           ⎥\n",
       "⎢ 2  2  3   ⎥\n",
       "⎢α ⋅β ⋅δ ⋅γ ⎥\n",
       "⎢           ⎥\n",
       "⎢   3  2  2 ⎥\n",
       "⎢α⋅β ⋅δ ⋅γ  ⎥\n",
       "⎢           ⎥\n",
       "⎢    3  3   ⎥\n",
       "⎢ α⋅β ⋅δ ⋅γ ⎥\n",
       "⎢           ⎥\n",
       "⎢  2  2  4  ⎥\n",
       "⎢ α ⋅β ⋅γ   ⎥\n",
       "⎢           ⎥\n",
       "⎢ 2  2    3 ⎥\n",
       "⎢α ⋅β ⋅δ⋅γ  ⎥\n",
       "⎢           ⎥\n",
       "⎢     3  4  ⎥\n",
       "⎢  α⋅β ⋅γ   ⎥\n",
       "⎢           ⎥\n",
       "⎢    3    3 ⎥\n",
       "⎢ α⋅β ⋅δ⋅γ  ⎥\n",
       "⎢           ⎥\n",
       "⎢ 2  2    3 ⎥\n",
       "⎢α ⋅β ⋅δ⋅γ  ⎥\n",
       "⎢           ⎥\n",
       "⎢ 2  2  2  2⎥\n",
       "⎢α ⋅β ⋅δ ⋅γ ⎥\n",
       "⎢           ⎥\n",
       "⎢    3    3 ⎥\n",
       "⎢ α⋅β ⋅δ⋅γ  ⎥\n",
       "⎢           ⎥\n",
       "⎢   3  2  2 ⎥\n",
       "⎢α⋅β ⋅δ ⋅γ  ⎥\n",
       "⎢           ⎥\n",
       "⎢     3  4  ⎥\n",
       "⎢  α⋅β ⋅γ   ⎥\n",
       "⎢           ⎥\n",
       "⎢    3    3 ⎥\n",
       "⎢ α⋅β ⋅δ⋅γ  ⎥\n",
       "⎢           ⎥\n",
       "⎢    4  4   ⎥\n",
       "⎢   β ⋅γ    ⎥\n",
       "⎢           ⎥\n",
       "⎢   4    3  ⎥\n",
       "⎢  β ⋅δ⋅γ   ⎥\n",
       "⎢           ⎥\n",
       "⎢    3    3 ⎥\n",
       "⎢ α⋅β ⋅δ⋅γ  ⎥\n",
       "⎢           ⎥\n",
       "⎢   3  2  2 ⎥\n",
       "⎢α⋅β ⋅δ ⋅γ  ⎥\n",
       "⎢           ⎥\n",
       "⎢   4    3  ⎥\n",
       "⎢  β ⋅δ⋅γ   ⎥\n",
       "⎢           ⎥\n",
       "⎢  4  2  2  ⎥\n",
       "⎢ β ⋅δ ⋅γ   ⎥\n",
       "⎢           ⎥\n",
       "⎢ 2  2    3 ⎥\n",
       "⎢α ⋅β ⋅δ⋅γ  ⎥\n",
       "⎢           ⎥\n",
       "⎢ 2  2  2  2⎥\n",
       "⎢α ⋅β ⋅δ ⋅γ ⎥\n",
       "⎢           ⎥\n",
       "⎢    3    3 ⎥\n",
       "⎢ α⋅β ⋅δ⋅γ  ⎥\n",
       "⎢           ⎥\n",
       "⎢   3  2  2 ⎥\n",
       "⎢α⋅β ⋅δ ⋅γ  ⎥\n",
       "⎢           ⎥\n",
       "⎢ 2  2  2  2⎥\n",
       "⎢α ⋅β ⋅δ ⋅γ ⎥\n",
       "⎢           ⎥\n",
       "⎢ 2  2  3   ⎥\n",
       "⎢α ⋅β ⋅δ ⋅γ ⎥\n",
       "⎢           ⎥\n",
       "⎢   3  2  2 ⎥\n",
       "⎢α⋅β ⋅δ ⋅γ  ⎥\n",
       "⎢           ⎥\n",
       "⎢    3  3   ⎥\n",
       "⎢ α⋅β ⋅δ ⋅γ ⎥\n",
       "⎢           ⎥\n",
       "⎢    3    3 ⎥\n",
       "⎢ α⋅β ⋅δ⋅γ  ⎥\n",
       "⎢           ⎥\n",
       "⎢   3  2  2 ⎥\n",
       "⎢α⋅β ⋅δ ⋅γ  ⎥\n",
       "⎢           ⎥\n",
       "⎢   4    3  ⎥\n",
       "⎢  β ⋅δ⋅γ   ⎥\n",
       "⎢           ⎥\n",
       "⎢  4  2  2  ⎥\n",
       "⎢ β ⋅δ ⋅γ   ⎥\n",
       "⎢           ⎥\n",
       "⎢   3  2  2 ⎥\n",
       "⎢α⋅β ⋅δ ⋅γ  ⎥\n",
       "⎢           ⎥\n",
       "⎢    3  3   ⎥\n",
       "⎢ α⋅β ⋅δ ⋅γ ⎥\n",
       "⎢           ⎥\n",
       "⎢  4  2  2  ⎥\n",
       "⎢ β ⋅δ ⋅γ   ⎥\n",
       "⎢           ⎥\n",
       "⎢   4  3    ⎥\n",
       "⎢  β ⋅δ ⋅γ  ⎥\n",
       "⎢           ⎥\n",
       "⎢  3      3 ⎥\n",
       "⎢ α ⋅β⋅δ⋅γ  ⎥\n",
       "⎢           ⎥\n",
       "⎢ 3    2  2 ⎥\n",
       "⎢α ⋅β⋅δ ⋅γ  ⎥\n",
       "⎢           ⎥\n",
       "⎢ 2  2    3 ⎥\n",
       "⎢α ⋅β ⋅δ⋅γ  ⎥\n",
       "⎢           ⎥\n",
       "⎢ 2  2  2  2⎥\n",
       "⎢α ⋅β ⋅δ ⋅γ ⎥\n",
       "⎢           ⎥\n",
       "⎢ 3    2  2 ⎥\n",
       "⎢α ⋅β⋅δ ⋅γ  ⎥\n",
       "⎢           ⎥\n",
       "⎢  3    3   ⎥\n",
       "⎢ α ⋅β⋅δ ⋅γ ⎥\n",
       "⎢           ⎥\n",
       "⎢ 2  2  2  2⎥\n",
       "⎢α ⋅β ⋅δ ⋅γ ⎥\n",
       "⎢           ⎥\n",
       "⎢ 2  2  3   ⎥\n",
       "⎢α ⋅β ⋅δ ⋅γ ⎥\n",
       "⎢           ⎥\n",
       "⎢ 2  2    3 ⎥\n",
       "⎢α ⋅β ⋅δ⋅γ  ⎥\n",
       "⎢           ⎥\n",
       "⎢ 2  2  2  2⎥\n",
       "⎢α ⋅β ⋅δ ⋅γ ⎥\n",
       "⎢           ⎥\n",
       "⎢    3    3 ⎥\n",
       "⎢ α⋅β ⋅δ⋅γ  ⎥\n",
       "⎢           ⎥\n",
       "⎢   3  2  2 ⎥\n",
       "⎢α⋅β ⋅δ ⋅γ  ⎥\n",
       "⎢           ⎥\n",
       "⎢ 2  2  2  2⎥\n",
       "⎢α ⋅β ⋅δ ⋅γ ⎥\n",
       "⎢           ⎥\n",
       "⎢ 2  2  3   ⎥\n",
       "⎢α ⋅β ⋅δ ⋅γ ⎥\n",
       "⎢           ⎥\n",
       "⎢   3  2  2 ⎥\n",
       "⎢α⋅β ⋅δ ⋅γ  ⎥\n",
       "⎢           ⎥\n",
       "⎢    3  3   ⎥\n",
       "⎢ α⋅β ⋅δ ⋅γ ⎥\n",
       "⎢           ⎥\n",
       "⎢ 3    2  2 ⎥\n",
       "⎢α ⋅β⋅δ ⋅γ  ⎥\n",
       "⎢           ⎥\n",
       "⎢  3    3   ⎥\n",
       "⎢ α ⋅β⋅δ ⋅γ ⎥\n",
       "⎢           ⎥\n",
       "⎢ 2  2  2  2⎥\n",
       "⎢α ⋅β ⋅δ ⋅γ ⎥\n",
       "⎢           ⎥\n",
       "⎢ 2  2  3   ⎥\n",
       "⎢α ⋅β ⋅δ ⋅γ ⎥\n",
       "⎢           ⎥\n",
       "⎢  3    3   ⎥\n",
       "⎢ α ⋅β⋅δ ⋅γ ⎥\n",
       "⎢           ⎥\n",
       "⎢   3    4  ⎥\n",
       "⎢  α ⋅β⋅δ   ⎥\n",
       "⎢           ⎥\n",
       "⎢ 2  2  3   ⎥\n",
       "⎢α ⋅β ⋅δ ⋅γ ⎥\n",
       "⎢           ⎥\n",
       "⎢  2  2  4  ⎥\n",
       "⎢ α ⋅β ⋅δ   ⎥\n",
       "⎢           ⎥\n",
       "⎢ 2  2  2  2⎥\n",
       "⎢α ⋅β ⋅δ ⋅γ ⎥\n",
       "⎢           ⎥\n",
       "⎢ 2  2  3   ⎥\n",
       "⎢α ⋅β ⋅δ ⋅γ ⎥\n",
       "⎢           ⎥\n",
       "⎢   3  2  2 ⎥\n",
       "⎢α⋅β ⋅δ ⋅γ  ⎥\n",
       "⎢           ⎥\n",
       "⎢    3  3   ⎥\n",
       "⎢ α⋅β ⋅δ ⋅γ ⎥\n",
       "⎢           ⎥\n",
       "⎢ 2  2  3   ⎥\n",
       "⎢α ⋅β ⋅δ ⋅γ ⎥\n",
       "⎢           ⎥\n",
       "⎢  2  2  4  ⎥\n",
       "⎢ α ⋅β ⋅δ   ⎥\n",
       "⎢           ⎥\n",
       "⎢    3  3   ⎥\n",
       "⎢ α⋅β ⋅δ ⋅γ ⎥\n",
       "⎢           ⎥\n",
       "⎢     3  4  ⎥\n",
       "⎢  α⋅β ⋅δ   ⎥\n",
       "⎢           ⎥\n",
       "⎢ 2  2    3 ⎥\n",
       "⎢α ⋅β ⋅δ⋅γ  ⎥\n",
       "⎢           ⎥\n",
       "⎢ 2  2  2  2⎥\n",
       "⎢α ⋅β ⋅δ ⋅γ ⎥\n",
       "⎢           ⎥\n",
       "⎢    3    3 ⎥\n",
       "⎢ α⋅β ⋅δ⋅γ  ⎥\n",
       "⎢           ⎥\n",
       "⎢   3  2  2 ⎥\n",
       "⎢α⋅β ⋅δ ⋅γ  ⎥\n",
       "⎢           ⎥\n",
       "⎢ 2  2  2  2⎥\n",
       "⎢α ⋅β ⋅δ ⋅γ ⎥\n",
       "⎢           ⎥\n",
       "⎢ 2  2  3   ⎥\n",
       "⎢α ⋅β ⋅δ ⋅γ ⎥\n",
       "⎢           ⎥\n",
       "⎢   3  2  2 ⎥\n",
       "⎢α⋅β ⋅δ ⋅γ  ⎥\n",
       "⎢           ⎥\n",
       "⎢    3  3   ⎥\n",
       "⎢ α⋅β ⋅δ ⋅γ ⎥\n",
       "⎢           ⎥\n",
       "⎢    3    3 ⎥\n",
       "⎢ α⋅β ⋅δ⋅γ  ⎥\n",
       "⎢           ⎥\n",
       "⎢   3  2  2 ⎥\n",
       "⎢α⋅β ⋅δ ⋅γ  ⎥\n",
       "⎢           ⎥\n",
       "⎢   4    3  ⎥\n",
       "⎢  β ⋅δ⋅γ   ⎥\n",
       "⎢           ⎥\n",
       "⎢  4  2  2  ⎥\n",
       "⎢ β ⋅δ ⋅γ   ⎥\n",
       "⎢           ⎥\n",
       "⎢   3  2  2 ⎥\n",
       "⎢α⋅β ⋅δ ⋅γ  ⎥\n",
       "⎢           ⎥\n",
       "⎢    3  3   ⎥\n",
       "⎢ α⋅β ⋅δ ⋅γ ⎥\n",
       "⎢           ⎥\n",
       "⎢  4  2  2  ⎥\n",
       "⎢ β ⋅δ ⋅γ   ⎥\n",
       "⎢           ⎥\n",
       "⎢   4  3    ⎥\n",
       "⎢  β ⋅δ ⋅γ  ⎥\n",
       "⎢           ⎥\n",
       "⎢ 2  2  2  2⎥\n",
       "⎢α ⋅β ⋅δ ⋅γ ⎥\n",
       "⎢           ⎥\n",
       "⎢ 2  2  3   ⎥\n",
       "⎢α ⋅β ⋅δ ⋅γ ⎥\n",
       "⎢           ⎥\n",
       "⎢   3  2  2 ⎥\n",
       "⎢α⋅β ⋅δ ⋅γ  ⎥\n",
       "⎢           ⎥\n",
       "⎢    3  3   ⎥\n",
       "⎢ α⋅β ⋅δ ⋅γ ⎥\n",
       "⎢           ⎥\n",
       "⎢ 2  2  3   ⎥\n",
       "⎢α ⋅β ⋅δ ⋅γ ⎥\n",
       "⎢           ⎥\n",
       "⎢  2  2  4  ⎥\n",
       "⎢ α ⋅β ⋅δ   ⎥\n",
       "⎢           ⎥\n",
       "⎢    3  3   ⎥\n",
       "⎢ α⋅β ⋅δ ⋅γ ⎥\n",
       "⎢           ⎥\n",
       "⎢     3  4  ⎥\n",
       "⎢  α⋅β ⋅δ   ⎥\n",
       "⎢           ⎥\n",
       "⎢   3  2  2 ⎥\n",
       "⎢α⋅β ⋅δ ⋅γ  ⎥\n",
       "⎢           ⎥\n",
       "⎢    3  3   ⎥\n",
       "⎢ α⋅β ⋅δ ⋅γ ⎥\n",
       "⎢           ⎥\n",
       "⎢  4  2  2  ⎥\n",
       "⎢ β ⋅δ ⋅γ   ⎥\n",
       "⎢           ⎥\n",
       "⎢   4  3    ⎥\n",
       "⎢  β ⋅δ ⋅γ  ⎥\n",
       "⎢           ⎥\n",
       "⎢    3  3   ⎥\n",
       "⎢ α⋅β ⋅δ ⋅γ ⎥\n",
       "⎢           ⎥\n",
       "⎢     3  4  ⎥\n",
       "⎢  α⋅β ⋅δ   ⎥\n",
       "⎢           ⎥\n",
       "⎢   4  3    ⎥\n",
       "⎢  β ⋅δ ⋅γ  ⎥\n",
       "⎢           ⎥\n",
       "⎢    4  4   ⎥\n",
       "⎣   β ⋅δ    ⎦"
      ]
     },
     "execution_count": 198,
     "metadata": {},
     "output_type": "execute_result"
    }
   ],
   "source": [
    "bigpsi = TensorProduct(psiPhi,psiPhi)\n",
    "represent(TensorProduct(bigpsi,bigpsi))"
   ]
  },
  {
   "cell_type": "markdown",
   "metadata": {},
   "source": [
    "symbolic に定義した状態に演算を作用"
   ]
  },
  {
   "cell_type": "code",
   "execution_count": 44,
   "metadata": {},
   "outputs": [
    {
     "data": {
      "image/png": "[encoded data removed]",
      "text/latex": [
       "$$\\frac{\\sqrt{2} \\alpha}{2} {\\left|0\\right\\rangle } + \\frac{\\sqrt{2} \\alpha}{2} {\\left|1\\right\\rangle } + \\frac{\\sqrt{2} \\beta}{2} {\\left|0\\right\\rangle } - \\frac{\\sqrt{2} \\beta}{2} {\\left|1\\right\\rangle }$$"
      ],
      "text/plain": [
       "√2⋅α⋅❘0⟩   √2⋅α⋅❘1⟩   √2⋅β⋅❘0⟩   √2⋅β⋅❘1⟩\n",
       "──────── + ──────── + ──────── - ────────\n",
       "   2          2          2          2    "
      ]
     },
     "execution_count": 44,
     "metadata": {},
     "output_type": "execute_result"
    }
   ],
   "source": [
    "a,b,c,d =symbols(\"alpha,beta,gamma,delta\")\n",
    "psi = a*Qubit(\"0\")+b*Qubit(\"1\")\n",
    "qapply(H(0)*psi)"
   ]
  },
  {
   "cell_type": "code",
   "execution_count": 139,
   "metadata": {},
   "outputs": [
    {
     "data": {
      "image/png": "[encoded data removed]",
      "text/latex": [
       "$$\\left[\\begin{matrix}\\frac{\\sqrt{2} \\alpha}{2} + \\frac{\\sqrt{2} \\beta}{2}\\\\\\frac{\\sqrt{2} \\alpha}{2} - \\frac{\\sqrt{2} \\beta}{2}\\end{matrix}\\right]$$"
      ],
      "text/plain": [
       "⎡√2⋅α   √2⋅β⎤\n",
       "⎢──── + ────⎥\n",
       "⎢ 2      2  ⎥\n",
       "⎢           ⎥\n",
       "⎢√2⋅α   √2⋅β⎥\n",
       "⎢──── - ────⎥\n",
       "⎣ 2      2  ⎦"
      ]
     },
     "execution_count": 139,
     "metadata": {},
     "output_type": "execute_result"
    }
   ],
   "source": [
    "represent(qapply(H(0)*psi),nqubits=1)"
   ]
  },
  {
   "cell_type": "markdown",
   "metadata": {},
   "source": [
    "自分で演算を定義することもできる"
   ]
  },
  {
   "cell_type": "code",
   "execution_count": 45,
   "metadata": {},
   "outputs": [
    {
     "data": {
      "image/png": "[encoded data removed]",
      "text/latex": [
       "$$\\left[\\begin{matrix}\\frac{1}{2}\\\\\\frac{1}{2}\\\\\\frac{1}{2}\\\\\\frac{1}{2}\\end{matrix}\\right]$$"
      ],
      "text/plain": [
       "⎡1/2⎤\n",
       "⎢   ⎥\n",
       "⎢1/2⎥\n",
       "⎢   ⎥\n",
       "⎢1/2⎥\n",
       "⎢   ⎥\n",
       "⎣1/2⎦"
      ]
     },
     "execution_count": 45,
     "metadata": {},
     "output_type": "execute_result"
    }
   ],
   "source": [
    "matMygate = np.array([[1,1],[1,-1]])/sqrt(2)\n",
    "myGate = SafeUGate(target = 0, matrix = ImmutableMatrix(matMygate),name = \"M\")\n",
    "qapply(myGate*Qubit('00'))\n",
    "represent(myGate*H(1)*Qubit('00'),nqubits=2)"
   ]
  },
  {
   "cell_type": "code",
   "execution_count": 54,
   "metadata": {},
   "outputs": [
    {
     "data": {
      "image/png": "[encoded data removed]",
      "text/latex": [
       "$$\\left[\\begin{matrix}\\frac{\\sqrt{2}}{2} & 0 & \\frac{\\sqrt{2}}{2} & 0\\\\0 & \\frac{\\sqrt{2}}{2} & 0 & \\frac{\\sqrt{2}}{2}\\\\\\frac{\\sqrt{2}}{2} & 0 & - \\frac{\\sqrt{2}}{2} & 0\\\\0 & \\frac{\\sqrt{2}}{2} & 0 & - \\frac{\\sqrt{2}}{2}\\end{matrix}\\right]$$"
      ],
      "text/plain": [
       "⎡√2       √2       ⎤\n",
       "⎢──  0    ──    0  ⎥\n",
       "⎢2        2        ⎥\n",
       "⎢                  ⎥\n",
       "⎢    √2         √2 ⎥\n",
       "⎢0   ──   0     ── ⎥\n",
       "⎢    2          2  ⎥\n",
       "⎢                  ⎥\n",
       "⎢√2      -√2       ⎥\n",
       "⎢──  0   ────   0  ⎥\n",
       "⎢2        2        ⎥\n",
       "⎢                  ⎥\n",
       "⎢    √2        -√2 ⎥\n",
       "⎢0   ──   0    ────⎥\n",
       "⎣    2          2  ⎦"
      ]
     },
     "execution_count": 54,
     "metadata": {},
     "output_type": "execute_result"
    }
   ],
   "source": [
    "matMygate = np.array([[1,1],[1,-1]])/sqrt(2)\n",
    "myGate = SafeUGate(target = 1, matrix = ImmutableMatrix(matMygate),name = \"M\")\n",
    "represent(myGate,nqubits =2)"
   ]
  },
  {
   "cell_type": "markdown",
   "metadata": {},
   "source": [
    "２量子ビット演算"
   ]
  },
  {
   "cell_type": "code",
   "execution_count": 55,
   "metadata": {},
   "outputs": [
    {
     "data": {
      "image/png": "[encoded data removed]",
      "text/latex": [
       "$$\\left[\\begin{matrix}1 & 0 & 0 & 0\\\\0 & 1 & 0 & 0\\\\0 & 0 & 0 & 1\\\\0 & 0 & 1 & 0\\end{matrix}\\right]$$"
      ],
      "text/plain": [
       "⎡1  0  0  0⎤\n",
       "⎢          ⎥\n",
       "⎢0  1  0  0⎥\n",
       "⎢          ⎥\n",
       "⎢0  0  0  1⎥\n",
       "⎢          ⎥\n",
       "⎣0  0  1  0⎦"
      ]
     },
     "execution_count": 55,
     "metadata": {},
     "output_type": "execute_result"
    }
   ],
   "source": [
    "represent(CNOT(1,0),nqubits=2)"
   ]
  },
  {
   "cell_type": "code",
   "execution_count": 144,
   "metadata": {},
   "outputs": [
    {
     "data": {
      "image/png": "[encoded data removed]",
      "text/latex": [
       "$$\\left[\\begin{matrix}1 & 0 & 0 & 0 & 0 & 0 & 0 & 0\\\\0 & 1 & 0 & 0 & 0 & 0 & 0 & 0\\\\0 & 0 & 1 & 0 & 0 & 0 & 0 & 0\\\\0 & 0 & 0 & 1 & 0 & 0 & 0 & 0\\\\0 & 0 & 0 & 0 & 0 & 0 & 1 & 0\\\\0 & 0 & 0 & 0 & 0 & 0 & 0 & 1\\\\0 & 0 & 0 & 0 & 1 & 0 & 0 & 0\\\\0 & 0 & 0 & 0 & 0 & 1 & 0 & 0\\end{matrix}\\right]$$"
      ],
      "text/plain": [
       "⎡1  0  0  0  0  0  0  0⎤\n",
       "⎢                      ⎥\n",
       "⎢0  1  0  0  0  0  0  0⎥\n",
       "⎢                      ⎥\n",
       "⎢0  0  1  0  0  0  0  0⎥\n",
       "⎢                      ⎥\n",
       "⎢0  0  0  1  0  0  0  0⎥\n",
       "⎢                      ⎥\n",
       "⎢0  0  0  0  0  0  1  0⎥\n",
       "⎢                      ⎥\n",
       "⎢0  0  0  0  0  0  0  1⎥\n",
       "⎢                      ⎥\n",
       "⎢0  0  0  0  1  0  0  0⎥\n",
       "⎢                      ⎥\n",
       "⎣0  0  0  0  0  1  0  0⎦"
      ]
     },
     "execution_count": 144,
     "metadata": {},
     "output_type": "execute_result"
    }
   ],
   "source": [
    "represent(CNOT(2,1),nqubits=3)"
   ]
  },
  {
   "cell_type": "markdown",
   "metadata": {},
   "source": [
    "**qubitの番号づけが右からであることに注意**"
   ]
  },
  {
   "cell_type": "markdown",
   "metadata": {},
   "source": [
    "確率を計算したい場合は、\n",
    "measure_all() "
   ]
  },
  {
   "cell_type": "code",
   "execution_count": 56,
   "metadata": {},
   "outputs": [],
   "source": [
    "from sympy.physics.quantum.qubit import measure_all, measure_partial, measure_all_oneshot, measure_partial_oneshot"
   ]
  },
  {
   "cell_type": "code",
   "execution_count": 57,
   "metadata": {},
   "outputs": [
    {
     "data": {
      "image/png": "[encoded data removed]",
      "text/latex": [
       "$$\\left [ \\left ( {\\left|01\\right\\rangle }, \\quad \\frac{\\alpha \\overline{\\alpha}}{\\left|{\\alpha}\\right|^{2} + \\left|{\\beta}\\right|^{2}}\\right ), \\quad \\left ( {\\left|11\\right\\rangle }, \\quad \\frac{\\beta \\overline{\\beta}}{\\left|{\\alpha}\\right|^{2} + \\left|{\\beta}\\right|^{2}}\\right )\\right ]$$"
      ],
      "text/plain": [
       "⎡⎛            _    ⎞  ⎛            _    ⎞⎤\n",
       "⎢⎜          α⋅α    ⎟  ⎜          β⋅β    ⎟⎥\n",
       "⎢⎜❘01⟩, ───────────⎟, ⎜❘11⟩, ───────────⎟⎥\n",
       "⎢⎜         2      2⎟  ⎜         2      2⎟⎥\n",
       "⎣⎝      │α│  + │β│ ⎠  ⎝      │α│  + │β│ ⎠⎦"
      ]
     },
     "execution_count": 57,
     "metadata": {},
     "output_type": "execute_result"
    }
   ],
   "source": [
    "a,b,c,d =symbols(\"alpha,beta,gamma,delta\")\n",
    "psi =a*Qubit('0') + b*Qubit('1')\n",
    "measure_all(psi)"
   ]
  },
  {
   "cell_type": "code",
   "execution_count": 58,
   "metadata": {},
   "outputs": [
    {
     "data": {
      "image/png": "[encoded data removed]",
      "text/latex": [
       "$$\\left [ \\left ( {\\left|000\\right\\rangle }, \\quad \\frac{\\alpha \\overline{\\alpha}}{\\left|{\\alpha}\\right|^{2} + \\left|{\\beta}\\right|^{2}}\\right ), \\quad \\left ( {\\left|111\\right\\rangle }, \\quad \\frac{\\beta \\overline{\\beta}}{\\left|{\\alpha}\\right|^{2} + \\left|{\\beta}\\right|^{2}}\\right )\\right ]$$"
      ],
      "text/plain": [
       "⎡⎛             _    ⎞  ⎛             _    ⎞⎤\n",
       "⎢⎜           α⋅α    ⎟  ⎜           β⋅β    ⎟⎥\n",
       "⎢⎜❘000⟩, ───────────⎟, ⎜❘111⟩, ───────────⎟⎥\n",
       "⎢⎜          2      2⎟  ⎜          2      2⎟⎥\n",
       "⎣⎝       │α│  + │β│ ⎠  ⎝       │α│  + │β│ ⎠⎦"
      ]
     },
     "execution_count": 58,
     "metadata": {},
     "output_type": "execute_result"
    }
   ],
   "source": [
    "a,b,c,d =symbols(\"alpha,beta,gamma,delta\")\n",
    "psi =a*Qubit('000') + b*Qubit('111')\n",
    "measure_all(psi)"
   ]
  },
  {
   "cell_type": "code",
   "execution_count": 175,
   "metadata": {},
   "outputs": [
    {
     "data": {
      "image/png": "[encoded data removed]",
      "text/latex": [
       "$$0.7071067811865475$$"
      ],
      "text/plain": [
       "0.7071067811865475"
      ]
     },
     "execution_count": 175,
     "metadata": {},
     "output_type": "execute_result"
    }
   ],
   "source": [
    "1/np.sqrt(2)\n",
    "r2"
   ]
  },
  {
   "cell_type": "code",
   "execution_count": 176,
   "metadata": {},
   "outputs": [
    {
     "data": {
      "image/png": "[encoded data removed]",
      "text/latex": [
       "$$\\left [ \\left ( {\\left|01\\right\\rangle }, \\quad 0.5\\right ), \\quad \\left ( {\\left|11\\right\\rangle }, \\quad 0.5\\right )\\right ]$$"
      ],
      "text/plain": [
       "[(❘01⟩, 0.5), (❘11⟩, 0.5)]"
      ]
     },
     "execution_count": 176,
     "metadata": {},
     "output_type": "execute_result"
    }
   ],
   "source": [
    "psi =0.7071*Qubit('0') +0.7071*Qubit('1')\n",
    "measure_all(psi)"
   ]
  },
  {
   "cell_type": "code",
   "execution_count": 186,
   "metadata": {},
   "outputs": [],
   "source": [
    "psi_5_qubit=qapply(H(0)*H(1)*H(2)*H(3)*H(4)*Qubit('00000'))"
   ]
  },
  {
   "cell_type": "code",
   "execution_count": 187,
   "metadata": {},
   "outputs": [
    {
     "data": {
      "image/png": "[encoded data removed]",
      "text/latex": [
       "$$\\left[\\begin{matrix}\\frac{\\sqrt{2}}{8}\\\\\\frac{\\sqrt{2}}{8}\\\\\\frac{\\sqrt{2}}{8}\\\\\\frac{\\sqrt{2}}{8}\\\\\\frac{\\sqrt{2}}{8}\\\\\\frac{\\sqrt{2}}{8}\\\\\\frac{\\sqrt{2}}{8}\\\\\\frac{\\sqrt{2}}{8}\\\\\\frac{\\sqrt{2}}{8}\\\\\\frac{\\sqrt{2}}{8}\\\\\\frac{\\sqrt{2}}{8}\\\\\\frac{\\sqrt{2}}{8}\\\\\\frac{\\sqrt{2}}{8}\\\\\\frac{\\sqrt{2}}{8}\\\\\\frac{\\sqrt{2}}{8}\\\\\\frac{\\sqrt{2}}{8}\\\\\\frac{\\sqrt{2}}{8}\\\\\\frac{\\sqrt{2}}{8}\\\\\\frac{\\sqrt{2}}{8}\\\\\\frac{\\sqrt{2}}{8}\\\\\\frac{\\sqrt{2}}{8}\\\\\\frac{\\sqrt{2}}{8}\\\\\\frac{\\sqrt{2}}{8}\\\\\\frac{\\sqrt{2}}{8}\\\\\\frac{\\sqrt{2}}{8}\\\\\\frac{\\sqrt{2}}{8}\\\\\\frac{\\sqrt{2}}{8}\\\\\\frac{\\sqrt{2}}{8}\\\\\\frac{\\sqrt{2}}{8}\\\\\\frac{\\sqrt{2}}{8}\\\\\\frac{\\sqrt{2}}{8}\\\\\\frac{\\sqrt{2}}{8}\\end{matrix}\\right]$$"
      ],
      "text/plain": [
       "⎡√2⎤\n",
       "⎢──⎥\n",
       "⎢8 ⎥\n",
       "⎢  ⎥\n",
       "⎢√2⎥\n",
       "⎢──⎥\n",
       "⎢8 ⎥\n",
       "⎢  ⎥\n",
       "⎢√2⎥\n",
       "⎢──⎥\n",
       "⎢8 ⎥\n",
       "⎢  ⎥\n",
       "⎢√2⎥\n",
       "⎢──⎥\n",
       "⎢8 ⎥\n",
       "⎢  ⎥\n",
       "⎢√2⎥\n",
       "⎢──⎥\n",
       "⎢8 ⎥\n",
       "⎢  ⎥\n",
       "⎢√2⎥\n",
       "⎢──⎥\n",
       "⎢8 ⎥\n",
       "⎢  ⎥\n",
       "⎢√2⎥\n",
       "⎢──⎥\n",
       "⎢8 ⎥\n",
       "⎢  ⎥\n",
       "⎢√2⎥\n",
       "⎢──⎥\n",
       "⎢8 ⎥\n",
       "⎢  ⎥\n",
       "⎢√2⎥\n",
       "⎢──⎥\n",
       "⎢8 ⎥\n",
       "⎢  ⎥\n",
       "⎢√2⎥\n",
       "⎢──⎥\n",
       "⎢8 ⎥\n",
       "⎢  ⎥\n",
       "⎢√2⎥\n",
       "⎢──⎥\n",
       "⎢8 ⎥\n",
       "⎢  ⎥\n",
       "⎢√2⎥\n",
       "⎢──⎥\n",
       "⎢8 ⎥\n",
       "⎢  ⎥\n",
       "⎢√2⎥\n",
       "⎢──⎥\n",
       "⎢8 ⎥\n",
       "⎢  ⎥\n",
       "⎢√2⎥\n",
       "⎢──⎥\n",
       "⎢8 ⎥\n",
       "⎢  ⎥\n",
       "⎢√2⎥\n",
       "⎢──⎥\n",
       "⎢8 ⎥\n",
       "⎢  ⎥\n",
       "⎢√2⎥\n",
       "⎢──⎥\n",
       "⎢8 ⎥\n",
       "⎢  ⎥\n",
       "⎢√2⎥\n",
       "⎢──⎥\n",
       "⎢8 ⎥\n",
       "⎢  ⎥\n",
       "⎢√2⎥\n",
       "⎢──⎥\n",
       "⎢8 ⎥\n",
       "⎢  ⎥\n",
       "⎢√2⎥\n",
       "⎢──⎥\n",
       "⎢8 ⎥\n",
       "⎢  ⎥\n",
       "⎢√2⎥\n",
       "⎢──⎥\n",
       "⎢8 ⎥\n",
       "⎢  ⎥\n",
       "⎢√2⎥\n",
       "⎢──⎥\n",
       "⎢8 ⎥\n",
       "⎢  ⎥\n",
       "⎢√2⎥\n",
       "⎢──⎥\n",
       "⎢8 ⎥\n",
       "⎢  ⎥\n",
       "⎢√2⎥\n",
       "⎢──⎥\n",
       "⎢8 ⎥\n",
       "⎢  ⎥\n",
       "⎢√2⎥\n",
       "⎢──⎥\n",
       "⎢8 ⎥\n",
       "⎢  ⎥\n",
       "⎢√2⎥\n",
       "⎢──⎥\n",
       "⎢8 ⎥\n",
       "⎢  ⎥\n",
       "⎢√2⎥\n",
       "⎢──⎥\n",
       "⎢8 ⎥\n",
       "⎢  ⎥\n",
       "⎢√2⎥\n",
       "⎢──⎥\n",
       "⎢8 ⎥\n",
       "⎢  ⎥\n",
       "⎢√2⎥\n",
       "⎢──⎥\n",
       "⎢8 ⎥\n",
       "⎢  ⎥\n",
       "⎢√2⎥\n",
       "⎢──⎥\n",
       "⎢8 ⎥\n",
       "⎢  ⎥\n",
       "⎢√2⎥\n",
       "⎢──⎥\n",
       "⎢8 ⎥\n",
       "⎢  ⎥\n",
       "⎢√2⎥\n",
       "⎢──⎥\n",
       "⎢8 ⎥\n",
       "⎢  ⎥\n",
       "⎢√2⎥\n",
       "⎢──⎥\n",
       "⎣8 ⎦"
      ]
     },
     "execution_count": 187,
     "metadata": {},
     "output_type": "execute_result"
    }
   ],
   "source": [
    "represent(psi_5_qubit)"
   ]
  },
  {
   "cell_type": "code",
   "execution_count": 185,
   "metadata": {},
   "outputs": [
    {
     "data": {
      "image/png": "[encoded data removed]",
      "text/latex": [
       "$$\\left [ \\left ( {\\left|00000\\right\\rangle }, \\quad \\frac{1}{32}\\right ), \\quad \\left ( {\\left|00001\\right\\rangle }, \\quad \\frac{1}{32}\\right ), \\quad \\left ( {\\left|00010\\right\\rangle }, \\quad \\frac{1}{32}\\right ), \\quad \\left ( {\\left|00011\\right\\rangle }, \\quad \\frac{1}{32}\\right ), \\quad \\left ( {\\left|00100\\right\\rangle }, \\quad \\frac{1}{32}\\right ), \\quad \\left ( {\\left|00101\\right\\rangle }, \\quad \\frac{1}{32}\\right ), \\quad \\left ( {\\left|00110\\right\\rangle }, \\quad \\frac{1}{32}\\right ), \\quad \\left ( {\\left|00111\\right\\rangle }, \\quad \\frac{1}{32}\\right ), \\quad \\left ( {\\left|01000\\right\\rangle }, \\quad \\frac{1}{32}\\right ), \\quad \\left ( {\\left|01001\\right\\rangle }, \\quad \\frac{1}{32}\\right ), \\quad \\left ( {\\left|01010\\right\\rangle }, \\quad \\frac{1}{32}\\right ), \\quad \\left ( {\\left|01011\\right\\rangle }, \\quad \\frac{1}{32}\\right ), \\quad \\left ( {\\left|01100\\right\\rangle }, \\quad \\frac{1}{32}\\right ), \\quad \\left ( {\\left|01101\\right\\rangle }, \\quad \\frac{1}{32}\\right ), \\quad \\left ( {\\left|01110\\right\\rangle }, \\quad \\frac{1}{32}\\right ), \\quad \\left ( {\\left|01111\\right\\rangle }, \\quad \\frac{1}{32}\\right ), \\quad \\left ( {\\left|10000\\right\\rangle }, \\quad \\frac{1}{32}\\right ), \\quad \\left ( {\\left|10001\\right\\rangle }, \\quad \\frac{1}{32}\\right ), \\quad \\left ( {\\left|10010\\right\\rangle }, \\quad \\frac{1}{32}\\right ), \\quad \\left ( {\\left|10011\\right\\rangle }, \\quad \\frac{1}{32}\\right ), \\quad \\left ( {\\left|10100\\right\\rangle }, \\quad \\frac{1}{32}\\right ), \\quad \\left ( {\\left|10101\\right\\rangle }, \\quad \\frac{1}{32}\\right ), \\quad \\left ( {\\left|10110\\right\\rangle }, \\quad \\frac{1}{32}\\right ), \\quad \\left ( {\\left|10111\\right\\rangle }, \\quad \\frac{1}{32}\\right ), \\quad \\left ( {\\left|11000\\right\\rangle }, \\quad \\frac{1}{32}\\right ), \\quad \\left ( {\\left|11001\\right\\rangle }, \\quad \\frac{1}{32}\\right ), \\quad \\left ( {\\left|11010\\right\\rangle }, \\quad \\frac{1}{32}\\right ), \\quad \\left ( {\\left|11011\\right\\rangle }, \\quad \\frac{1}{32}\\right ), \\quad \\left ( {\\left|11100\\right\\rangle }, \\quad \\frac{1}{32}\\right ), \\quad \\left ( {\\left|11101\\right\\rangle }, \\quad \\frac{1}{32}\\right ), \\quad \\left ( {\\left|11110\\right\\rangle }, \\quad \\frac{1}{32}\\right ), \\quad \\left ( {\\left|11111\\right\\rangle }, \\quad \\frac{1}{32}\\right )\\right ]$$"
      ],
      "text/plain": [
       "[(❘00000⟩, 1/32), (❘00001⟩, 1/32), (❘00010⟩, 1/32), (❘00011⟩, 1/32), (❘00100⟩,\n",
       " 1/32), (❘00101⟩, 1/32), (❘00110⟩, 1/32), (❘00111⟩, 1/32), (❘01000⟩, 1/32), (❘\n",
       "01001⟩, 1/32), (❘01010⟩, 1/32), (❘01011⟩, 1/32), (❘01100⟩, 1/32), (❘01101⟩, 1/\n",
       "32), (❘01110⟩, 1/32), (❘01111⟩, 1/32), (❘10000⟩, 1/32), (❘10001⟩, 1/32), (❘100\n",
       "10⟩, 1/32), (❘10011⟩, 1/32), (❘10100⟩, 1/32), (❘10101⟩, 1/32), (❘10110⟩, 1/32)\n",
       ", (❘10111⟩, 1/32), (❘11000⟩, 1/32), (❘11001⟩, 1/32), (❘11010⟩, 1/32), (❘11011⟩\n",
       ", 1/32), (❘11100⟩, 1/32), (❘11101⟩, 1/32), (❘11110⟩, 1/32), (❘11111⟩, 1/32)]"
      ]
     },
     "execution_count": 185,
     "metadata": {},
     "output_type": "execute_result"
    }
   ],
   "source": [
    "measure_all(psi_5_qubit)"
   ]
  },
  {
   "cell_type": "code",
   "execution_count": null,
   "metadata": {},
   "outputs": [],
   "source": []
  }
 ],
 "metadata": {
  "kernelspec": {
   "display_name": "Python 3",
   "language": "python",
   "name": "python3"
  },
  "language_info": {
   "codemirror_mode": {
    "name": "ipython",
    "version": 3
   },
   "file_extension": ".py",
   "mimetype": "text/x-python",
   "name": "python",
   "nbconvert_exporter": "python",
   "pygments_lexer": "ipython3",
   "version": "3.7.4"
  }
 },
 "nbformat": 4,
 "nbformat_minor": 2
}
